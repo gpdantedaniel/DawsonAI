{
 "cells": [
  {
   "cell_type": "markdown",
   "id": "9f846557-dfa6-4f27-87bf-f4228aa4d164",
   "metadata": {},
   "source": [
    "## Loading our dataset"
   ]
  },
  {
   "cell_type": "code",
   "execution_count": 71,
   "id": "e8a03f0c-0b50-4317-9e08-67f48e444a77",
   "metadata": {},
   "outputs": [],
   "source": [
    "from datasets import load_dataset, concatenate_datasets"
   ]
  },
  {
   "cell_type": "code",
   "execution_count": 72,
   "id": "11811833-4885-42d7-88b4-de5dc0f35d66",
   "metadata": {},
   "outputs": [],
   "source": [
    "qa2d = load_dataset(\"domenicrosati/QA2D\")"
   ]
  },
  {
   "cell_type": "code",
   "execution_count": 73,
   "id": "af0855a5-e404-4b5d-adf6-56ab79d99b8a",
   "metadata": {},
   "outputs": [],
   "source": [
    "checkpoint = \"openai-community/gpt2\" # Our model of choice will be the google/flan-t5-small"
   ]
  },
  {
   "cell_type": "markdown",
   "id": "08bd5484-2083-48d5-bbe5-c5d0ef7e46f9",
   "metadata": {},
   "source": [
    "## Exploratory data analysis"
   ]
  },
  {
   "cell_type": "code",
   "execution_count": 74,
   "id": "96f8c552-3106-49f9-953d-391a2074cf79",
   "metadata": {},
   "outputs": [],
   "source": [
    "import pandas as pd"
   ]
  },
  {
   "cell_type": "code",
   "execution_count": 75,
   "id": "1acb6d98-b73d-4c0b-9ac4-994a53637cfe",
   "metadata": {},
   "outputs": [
    {
     "data": {
      "text/plain": [
       "DatasetDict({\n",
       "    train: Dataset({\n",
       "        features: ['dataset', 'example_uid', 'question', 'answer', 'turker_answer', 'rule-based'],\n",
       "        num_rows: 60710\n",
       "    })\n",
       "    dev: Dataset({\n",
       "        features: ['dataset', 'example_uid', 'question', 'answer', 'turker_answer', 'rule-based'],\n",
       "        num_rows: 10344\n",
       "    })\n",
       "})"
      ]
     },
     "execution_count": 75,
     "metadata": {},
     "output_type": "execute_result"
    }
   ],
   "source": [
    "qa2d # Let's first get an idea of the shape of this dataset"
   ]
  },
  {
   "cell_type": "code",
   "execution_count": 76,
   "id": "d6f34522-0fb2-490a-9397-67613595a438",
   "metadata": {},
   "outputs": [],
   "source": [
    "# Let's concatenate the train and dev datasets together to clean them up\n",
    "qa2d = concatenate_datasets([qa2d[\"train\"], qa2d[\"dev\"]])"
   ]
  },
  {
   "cell_type": "code",
   "execution_count": 77,
   "id": "f29984ae-068b-4d78-b0c0-20bbb393041c",
   "metadata": {},
   "outputs": [
    {
     "data": {
      "text/plain": [
       "Dataset({\n",
       "    features: ['dataset', 'example_uid', 'question', 'answer', 'turker_answer', 'rule-based'],\n",
       "    num_rows: 71054\n",
       "})"
      ]
     },
     "execution_count": 77,
     "metadata": {},
     "output_type": "execute_result"
    }
   ],
   "source": [
    "qa2d"
   ]
  },
  {
   "cell_type": "code",
   "execution_count": 78,
   "id": "94558b3d-25b0-41d9-825c-cb999e2b951b",
   "metadata": {},
   "outputs": [],
   "source": [
    "# Load the training dataset into a Pandas Dataframe\n",
    "qa2d_pd = qa2d.to_pandas()"
   ]
  },
  {
   "cell_type": "code",
   "execution_count": 79,
   "id": "ad16138f-a42b-4852-9b8e-52258bf76d96",
   "metadata": {},
   "outputs": [
    {
     "data": {
      "text/html": [
       "<div>\n",
       "<style scoped>\n",
       "    .dataframe tbody tr th:only-of-type {\n",
       "        vertical-align: middle;\n",
       "    }\n",
       "\n",
       "    .dataframe tbody tr th {\n",
       "        vertical-align: top;\n",
       "    }\n",
       "\n",
       "    .dataframe thead th {\n",
       "        text-align: right;\n",
       "    }\n",
       "</style>\n",
       "<table border=\"1\" class=\"dataframe\">\n",
       "  <thead>\n",
       "    <tr style=\"text-align: right;\">\n",
       "      <th></th>\n",
       "      <th>dataset</th>\n",
       "      <th>example_uid</th>\n",
       "      <th>question</th>\n",
       "      <th>answer</th>\n",
       "      <th>turker_answer</th>\n",
       "      <th>rule-based</th>\n",
       "    </tr>\n",
       "  </thead>\n",
       "  <tbody>\n",
       "    <tr>\n",
       "      <th>0</th>\n",
       "      <td>SQuAD</td>\n",
       "      <td>572812523acd2414000df3bf</td>\n",
       "      <td>What was Prince Albert 's nickname ?</td>\n",
       "      <td>Bertie</td>\n",
       "      <td>Prince Albert 's nickname was Bertie .</td>\n",
       "      <td>Prince Albert 's nickname was Bertie .</td>\n",
       "    </tr>\n",
       "    <tr>\n",
       "      <th>1</th>\n",
       "      <td>SQuAD</td>\n",
       "      <td>572817584b864d1900164464</td>\n",
       "      <td>Where is the centre of London said to be located ?</td>\n",
       "      <td>Eleanor Cross at Charing Cross near the junction of Trafalgar Square and Whitehall</td>\n",
       "      <td>The centre of London is said to be located by the Eleanor Cross in Charing Cross near the junction of Trafalgar Square and Whitehall .</td>\n",
       "      <td>The centre of London is said to be located in Eleanor Cross at Charing Cross near the junction of Trafalgar Square and Whitehall .</td>\n",
       "    </tr>\n",
       "    <tr>\n",
       "      <th>2</th>\n",
       "      <td>SQuAD</td>\n",
       "      <td>57312c6005b4da19006bce36</td>\n",
       "      <td>What pigment was used to paint villas in ancient Rome ?</td>\n",
       "      <td>vermilion</td>\n",
       "      <td>Vermillion pigment was used to paint villas in ancient Rome .</td>\n",
       "      <td>Vermilion was used to paint villas in ancient Rome .</td>\n",
       "    </tr>\n",
       "    <tr>\n",
       "      <th>3</th>\n",
       "      <td>SQuAD</td>\n",
       "      <td>57266b70708984140094c56a</td>\n",
       "      <td>Who was the Queen 's first grandchild ?</td>\n",
       "      <td>Wilhelm</td>\n",
       "      <td>Wilhelm was the Queen 's first grandchild .</td>\n",
       "      <td>Wilhelm was the Queen 's first grandchild .</td>\n",
       "    </tr>\n",
       "    <tr>\n",
       "      <th>4</th>\n",
       "      <td>SQuAD</td>\n",
       "      <td>56db66a2e7c41114004b509a</td>\n",
       "      <td>Who did BMG partner with in 2005-2007 ?</td>\n",
       "      <td>Sony Music Entertainment</td>\n",
       "      <td>BMG partnered with Sony Music Entertainment in 2005-2007 .</td>\n",
       "      <td>BMG partner with Sony Music Entertainment in 2005-2007 .</td>\n",
       "    </tr>\n",
       "  </tbody>\n",
       "</table>\n",
       "</div>"
      ],
      "text/plain": [
       "  dataset               example_uid  \\\n",
       "0   SQuAD  572812523acd2414000df3bf   \n",
       "1   SQuAD  572817584b864d1900164464   \n",
       "2   SQuAD  57312c6005b4da19006bce36   \n",
       "3   SQuAD  57266b70708984140094c56a   \n",
       "4   SQuAD  56db66a2e7c41114004b509a   \n",
       "\n",
       "                                                  question  \\\n",
       "0                     What was Prince Albert 's nickname ?   \n",
       "1       Where is the centre of London said to be located ?   \n",
       "2  What pigment was used to paint villas in ancient Rome ?   \n",
       "3                  Who was the Queen 's first grandchild ?   \n",
       "4                  Who did BMG partner with in 2005-2007 ?   \n",
       "\n",
       "                                                                               answer  \\\n",
       "0                                                                              Bertie   \n",
       "1  Eleanor Cross at Charing Cross near the junction of Trafalgar Square and Whitehall   \n",
       "2                                                                           vermilion   \n",
       "3                                                                             Wilhelm   \n",
       "4                                                            Sony Music Entertainment   \n",
       "\n",
       "                                                                                                                            turker_answer  \\\n",
       "0                                                                                                  Prince Albert 's nickname was Bertie .   \n",
       "1  The centre of London is said to be located by the Eleanor Cross in Charing Cross near the junction of Trafalgar Square and Whitehall .   \n",
       "2                                                                           Vermillion pigment was used to paint villas in ancient Rome .   \n",
       "3                                                                                             Wilhelm was the Queen 's first grandchild .   \n",
       "4                                                                              BMG partnered with Sony Music Entertainment in 2005-2007 .   \n",
       "\n",
       "                                                                                                                           rule-based  \n",
       "0                                                                                              Prince Albert 's nickname was Bertie .  \n",
       "1  The centre of London is said to be located in Eleanor Cross at Charing Cross near the junction of Trafalgar Square and Whitehall .  \n",
       "2                                                                                Vermilion was used to paint villas in ancient Rome .  \n",
       "3                                                                                         Wilhelm was the Queen 's first grandchild .  \n",
       "4                                                                            BMG partner with Sony Music Entertainment in 2005-2007 .  "
      ]
     },
     "execution_count": 79,
     "metadata": {},
     "output_type": "execute_result"
    }
   ],
   "source": [
    "qa2d_pd.head()"
   ]
  },
  {
   "cell_type": "code",
   "execution_count": 80,
   "id": "abd684ec-e2ae-4b22-b4e2-b10cbb51a3c7",
   "metadata": {},
   "outputs": [
    {
     "name": "stdout",
     "output_type": "stream",
     "text": [
      "<class 'pandas.core.frame.DataFrame'>\n",
      "RangeIndex: 71054 entries, 0 to 71053\n",
      "Data columns (total 6 columns):\n",
      " #   Column         Non-Null Count  Dtype \n",
      "---  ------         --------------  ----- \n",
      " 0   dataset        71054 non-null  object\n",
      " 1   example_uid    71054 non-null  object\n",
      " 2   question       71054 non-null  object\n",
      " 3   answer         71053 non-null  object\n",
      " 4   turker_answer  71054 non-null  object\n",
      " 5   rule-based     71054 non-null  object\n",
      "dtypes: object(6)\n",
      "memory usage: 3.3+ MB\n"
     ]
    }
   ],
   "source": [
    "qa2d_pd.info()"
   ]
  },
  {
   "cell_type": "code",
   "execution_count": 81,
   "id": "1813e0a5-11be-437a-814f-15f9e60fb05a",
   "metadata": {},
   "outputs": [
    {
     "data": {
      "text/html": [
       "<div>\n",
       "<style scoped>\n",
       "    .dataframe tbody tr th:only-of-type {\n",
       "        vertical-align: middle;\n",
       "    }\n",
       "\n",
       "    .dataframe tbody tr th {\n",
       "        vertical-align: top;\n",
       "    }\n",
       "\n",
       "    .dataframe thead th {\n",
       "        text-align: right;\n",
       "    }\n",
       "</style>\n",
       "<table border=\"1\" class=\"dataframe\">\n",
       "  <thead>\n",
       "    <tr style=\"text-align: right;\">\n",
       "      <th></th>\n",
       "      <th>dataset</th>\n",
       "      <th>example_uid</th>\n",
       "      <th>question</th>\n",
       "      <th>answer</th>\n",
       "      <th>turker_answer</th>\n",
       "      <th>rule-based</th>\n",
       "    </tr>\n",
       "  </thead>\n",
       "  <tbody>\n",
       "    <tr>\n",
       "      <th>11540</th>\n",
       "      <td>SQuAD</td>\n",
       "      <td>57302f4004bcaa1900d7730a</td>\n",
       "      <td>When did the Norman Conquest occur ?</td>\n",
       "      <td>1066</td>\n",
       "      <td>The Norman Conquest occurred in 1066 .</td>\n",
       "      <td>The Norman Conquest occurred in 1066 .</td>\n",
       "    </tr>\n",
       "    <tr>\n",
       "      <th>12594</th>\n",
       "      <td>SQuAD</td>\n",
       "      <td>57309103069b531400832191</td>\n",
       "      <td>What does ATC stand for ?</td>\n",
       "      <td>air traffic control</td>\n",
       "      <td>ATC stands for air traffic control .</td>\n",
       "      <td>ATC stands for air traffic control .</td>\n",
       "    </tr>\n",
       "    <tr>\n",
       "      <th>17324</th>\n",
       "      <td>SQuAD</td>\n",
       "      <td>572ff2f6947a6a140053ce5d</td>\n",
       "      <td>Who wrote the Divine Comedy ?</td>\n",
       "      <td>Dante Alighieri</td>\n",
       "      <td>Dante Alighieri wrote the Divine Comedy .</td>\n",
       "      <td>Dante Alighieri wrote the Divine Comedy .</td>\n",
       "    </tr>\n",
       "    <tr>\n",
       "      <th>17356</th>\n",
       "      <td>SQuAD</td>\n",
       "      <td>572929766aef051400154b03</td>\n",
       "      <td>When was the first Solvay Conference held ?</td>\n",
       "      <td>1911</td>\n",
       "      <td>The first Solvay Conference was held in 1911 .</td>\n",
       "      <td>The first Solvay Conference was held in 1911 .</td>\n",
       "    </tr>\n",
       "    <tr>\n",
       "      <th>17859</th>\n",
       "      <td>SQuAD</td>\n",
       "      <td>5731a5ede17f3d14004222a5</td>\n",
       "      <td>What amoun of the United States population is compromised of Native Americans ?</td>\n",
       "      <td>0.97 % to 2 %</td>\n",
       "      <td>0.97 % to 2 % of the United States population is compromised of Native Americans .</td>\n",
       "      <td>0.97 % to 2 % is compromised of Native Americans .</td>\n",
       "    </tr>\n",
       "    <tr>\n",
       "      <th>...</th>\n",
       "      <td>...</td>\n",
       "      <td>...</td>\n",
       "      <td>...</td>\n",
       "      <td>...</td>\n",
       "      <td>...</td>\n",
       "      <td>...</td>\n",
       "    </tr>\n",
       "    <tr>\n",
       "      <th>68966</th>\n",
       "      <td>SQuAD</td>\n",
       "      <td>56cf582eaab44d1400b8909d</td>\n",
       "      <td>Chopin 's performances were known for what ?</td>\n",
       "      <td>nuance and sensitivity</td>\n",
       "      <td>Chopin 's performances were known for nuance and sensitivity .</td>\n",
       "      <td>Chopin 's performances were known for nuance and sensitivity .</td>\n",
       "    </tr>\n",
       "    <tr>\n",
       "      <th>69736</th>\n",
       "      <td>SQuAD</td>\n",
       "      <td>5705dec952bb891400689639</td>\n",
       "      <td>The Times and its sister paper The Sunday Times are published by what company ?</td>\n",
       "      <td>Times Newspapers</td>\n",
       "      <td>The Times and its sister paper The Sunday Times are published by Times Newspapers .</td>\n",
       "      <td>The Times and its sister paper The Sunday Times are published by Times Newspapers .</td>\n",
       "    </tr>\n",
       "    <tr>\n",
       "      <th>69791</th>\n",
       "      <td>SQuAD</td>\n",
       "      <td>57260946ec44d21400f3d81e</td>\n",
       "      <td>When was the Royal Dutch Petroleum Company founded ?</td>\n",
       "      <td>1890</td>\n",
       "      <td>The Royal Dutch Petroleum Company was founded in 1890 .</td>\n",
       "      <td>The Royal Dutch Petroleum Company was founded in 1890 .</td>\n",
       "    </tr>\n",
       "    <tr>\n",
       "      <th>69793</th>\n",
       "      <td>SQuAD</td>\n",
       "      <td>56cfde92234ae51400d9bfbb</td>\n",
       "      <td>In 1842 where did Chopin and Sand move ?</td>\n",
       "      <td>Square d'Orléans</td>\n",
       "      <td>Chopin and Sand moved to Square d'Orléans in 1842 .</td>\n",
       "      <td>In 1842 Chopin and Sand move in Square d'Orléans .</td>\n",
       "    </tr>\n",
       "    <tr>\n",
       "      <th>69867</th>\n",
       "      <td>SQuAD</td>\n",
       "      <td>572600c038643c19005acf53</td>\n",
       "      <td>What year was the Federal Republic of Germany created ?</td>\n",
       "      <td>1949</td>\n",
       "      <td>The Federal Republic of Germany was created in 1949 .</td>\n",
       "      <td>The Federal Republic of Germany was created in 1949 .</td>\n",
       "    </tr>\n",
       "  </tbody>\n",
       "</table>\n",
       "<p>66 rows × 6 columns</p>\n",
       "</div>"
      ],
      "text/plain": [
       "      dataset               example_uid  \\\n",
       "11540   SQuAD  57302f4004bcaa1900d7730a   \n",
       "12594   SQuAD  57309103069b531400832191   \n",
       "17324   SQuAD  572ff2f6947a6a140053ce5d   \n",
       "17356   SQuAD  572929766aef051400154b03   \n",
       "17859   SQuAD  5731a5ede17f3d14004222a5   \n",
       "...       ...                       ...   \n",
       "68966   SQuAD  56cf582eaab44d1400b8909d   \n",
       "69736   SQuAD  5705dec952bb891400689639   \n",
       "69791   SQuAD  57260946ec44d21400f3d81e   \n",
       "69793   SQuAD  56cfde92234ae51400d9bfbb   \n",
       "69867   SQuAD  572600c038643c19005acf53   \n",
       "\n",
       "                                                                              question  \\\n",
       "11540                                             When did the Norman Conquest occur ?   \n",
       "12594                                                        What does ATC stand for ?   \n",
       "17324                                                    Who wrote the Divine Comedy ?   \n",
       "17356                                      When was the first Solvay Conference held ?   \n",
       "17859  What amoun of the United States population is compromised of Native Americans ?   \n",
       "...                                                                                ...   \n",
       "68966                                     Chopin 's performances were known for what ?   \n",
       "69736  The Times and its sister paper The Sunday Times are published by what company ?   \n",
       "69791                             When was the Royal Dutch Petroleum Company founded ?   \n",
       "69793                                         In 1842 where did Chopin and Sand move ?   \n",
       "69867                          What year was the Federal Republic of Germany created ?   \n",
       "\n",
       "                       answer  \\\n",
       "11540                    1066   \n",
       "12594     air traffic control   \n",
       "17324         Dante Alighieri   \n",
       "17356                    1911   \n",
       "17859           0.97 % to 2 %   \n",
       "...                       ...   \n",
       "68966  nuance and sensitivity   \n",
       "69736        Times Newspapers   \n",
       "69791                    1890   \n",
       "69793        Square d'Orléans   \n",
       "69867                    1949   \n",
       "\n",
       "                                                                             turker_answer  \\\n",
       "11540                                               The Norman Conquest occurred in 1066 .   \n",
       "12594                                                 ATC stands for air traffic control .   \n",
       "17324                                            Dante Alighieri wrote the Divine Comedy .   \n",
       "17356                                       The first Solvay Conference was held in 1911 .   \n",
       "17859   0.97 % to 2 % of the United States population is compromised of Native Americans .   \n",
       "...                                                                                    ...   \n",
       "68966                       Chopin 's performances were known for nuance and sensitivity .   \n",
       "69736  The Times and its sister paper The Sunday Times are published by Times Newspapers .   \n",
       "69791                              The Royal Dutch Petroleum Company was founded in 1890 .   \n",
       "69793                                  Chopin and Sand moved to Square d'Orléans in 1842 .   \n",
       "69867                                The Federal Republic of Germany was created in 1949 .   \n",
       "\n",
       "                                                                                rule-based  \n",
       "11540                                               The Norman Conquest occurred in 1066 .  \n",
       "12594                                                 ATC stands for air traffic control .  \n",
       "17324                                            Dante Alighieri wrote the Divine Comedy .  \n",
       "17356                                       The first Solvay Conference was held in 1911 .  \n",
       "17859                                   0.97 % to 2 % is compromised of Native Americans .  \n",
       "...                                                                                    ...  \n",
       "68966                       Chopin 's performances were known for nuance and sensitivity .  \n",
       "69736  The Times and its sister paper The Sunday Times are published by Times Newspapers .  \n",
       "69791                              The Royal Dutch Petroleum Company was founded in 1890 .  \n",
       "69793                                   In 1842 Chopin and Sand move in Square d'Orléans .  \n",
       "69867                                The Federal Republic of Germany was created in 1949 .  \n",
       "\n",
       "[66 rows x 6 columns]"
      ]
     },
     "execution_count": 81,
     "metadata": {},
     "output_type": "execute_result"
    }
   ],
   "source": [
    "# Let's find any questions which have the same question, answer and turker_answer since we'll be using those features\n",
    "qa2d_pd[qa2d_pd.duplicated(subset=[\"answer\", \"answer\", \"turker_answer\"])]"
   ]
  },
  {
   "cell_type": "code",
   "execution_count": 82,
   "id": "899a3c6d-d2aa-4d06-98f2-343540a9b51a",
   "metadata": {},
   "outputs": [],
   "source": [
    "# Now remove all the duplicates\n",
    "qa2d_pd.drop_duplicates(inplace=True, subset=[\"question\", \"answer\", \"turker_answer\"])"
   ]
  },
  {
   "cell_type": "code",
   "execution_count": 83,
   "id": "0871bfdb-4212-4a82-bd7a-3e5b68ec35a7",
   "metadata": {},
   "outputs": [
    {
     "name": "stdout",
     "output_type": "stream",
     "text": [
      "<class 'pandas.core.frame.DataFrame'>\n",
      "Index: 71015 entries, 0 to 71053\n",
      "Data columns (total 6 columns):\n",
      " #   Column         Non-Null Count  Dtype \n",
      "---  ------         --------------  ----- \n",
      " 0   dataset        71015 non-null  object\n",
      " 1   example_uid    71015 non-null  object\n",
      " 2   question       71015 non-null  object\n",
      " 3   answer         71014 non-null  object\n",
      " 4   turker_answer  71015 non-null  object\n",
      " 5   rule-based     71015 non-null  object\n",
      "dtypes: object(6)\n",
      "memory usage: 3.8+ MB\n"
     ]
    }
   ],
   "source": [
    "qa2d_pd.info()"
   ]
  },
  {
   "cell_type": "code",
   "execution_count": 84,
   "id": "93ef15bf-24b6-4f90-9cfa-1ad83af5ac54",
   "metadata": {},
   "outputs": [
    {
     "data": {
      "text/plain": [
       "dataset                                                                       SQuAD\n",
       "example_uid                                                572844763acd2414000df815\n",
       "question         In what year did Gabe Newell call the PS3 `` a total disaster '' ?\n",
       "answer                                                                         2007\n",
       "turker_answer           Gabe Newell called the PS3 `` a total disaster '' in 2007 .\n",
       "rule-based              Gabe Newell called the PS3 `` a total disaster in 2007 '' .\n",
       "Name: 98, dtype: object"
      ]
     },
     "execution_count": 84,
     "metadata": {},
     "output_type": "execute_result"
    }
   ],
   "source": [
    "pd.set_option('display.max_colwidth', None)\n",
    "qa2d_pd.iloc[98]"
   ]
  },
  {
   "cell_type": "code",
   "execution_count": 85,
   "id": "64d2eb0b-81d3-4e7a-9979-0e2a9307a362",
   "metadata": {},
   "outputs": [],
   "source": [
    "qa2d_pd.dropna(inplace=True) # Remove all Null values"
   ]
  },
  {
   "cell_type": "code",
   "execution_count": 86,
   "id": "70c69174-a30f-4580-b68c-e1a09d82c640",
   "metadata": {},
   "outputs": [
    {
     "data": {
      "text/plain": [
       "(71014, 6)"
      ]
     },
     "execution_count": 86,
     "metadata": {},
     "output_type": "execute_result"
    }
   ],
   "source": [
    "qa2d_pd.shape"
   ]
  },
  {
   "cell_type": "markdown",
   "id": "329d350b-a752-4db1-84e9-2cfaa14b735c",
   "metadata": {},
   "source": [
    "### Finding the max_length for the ideal inputs and outputs\n",
    "Now that we've cleaned our dataset, we must determine the max_length for preprocessing."
   ]
  },
  {
   "cell_type": "code",
   "execution_count": 87,
   "id": "3a3d4ca5-9276-49c6-9dcc-54e0ad6b1111",
   "metadata": {},
   "outputs": [],
   "source": [
    "from transformers import GPT2Tokenizer\n",
    "tokenizer = GPT2Tokenizer.from_pretrained(checkpoint)\n",
    "tokenizer.pad_token = tokenizer.eos_token"
   ]
  },
  {
   "cell_type": "code",
   "execution_count": 91,
   "id": "f7edf679-f309-444d-96b2-281b4eb68856",
   "metadata": {},
   "outputs": [],
   "source": [
    "# Get the token lengths for the questions combined to the answers and the turker_answer\n",
    "token_length = lambda text: len(tokenizer.encode(text))\n",
    "\n",
    "qa2d_pd[\"question_length\"] = qa2d_pd[\"question\"].apply(token_length)\n",
    "qa2d_pd[\"answer_length\"] = qa2d_pd[\"answer\"].apply(token_length)\n",
    "qa2d_pd[\"turker_answer_length\"] = qa2d_pd[\"turker_answer\"].apply(token_length)\n",
    "qa2d_pd[\"target_length\"] = qa2d_pd[\"question_length\"] + qa2d_pd[\"answer_length\"]"
   ]
  },
  {
   "cell_type": "code",
   "execution_count": 92,
   "id": "42f3b044-664e-44b1-b4ab-00a3f3b2c23f",
   "metadata": {},
   "outputs": [
    {
     "data": {
      "text/html": [
       "<div>\n",
       "<style scoped>\n",
       "    .dataframe tbody tr th:only-of-type {\n",
       "        vertical-align: middle;\n",
       "    }\n",
       "\n",
       "    .dataframe tbody tr th {\n",
       "        vertical-align: top;\n",
       "    }\n",
       "\n",
       "    .dataframe thead th {\n",
       "        text-align: right;\n",
       "    }\n",
       "</style>\n",
       "<table border=\"1\" class=\"dataframe\">\n",
       "  <thead>\n",
       "    <tr style=\"text-align: right;\">\n",
       "      <th></th>\n",
       "      <th>dataset</th>\n",
       "      <th>example_uid</th>\n",
       "      <th>question</th>\n",
       "      <th>answer</th>\n",
       "      <th>turker_answer</th>\n",
       "      <th>rule-based</th>\n",
       "      <th>question_length</th>\n",
       "      <th>answer_length</th>\n",
       "      <th>turker_answer_length</th>\n",
       "      <th>target_length</th>\n",
       "    </tr>\n",
       "  </thead>\n",
       "  <tbody>\n",
       "    <tr>\n",
       "      <th>0</th>\n",
       "      <td>SQuAD</td>\n",
       "      <td>572812523acd2414000df3bf</td>\n",
       "      <td>What was Prince Albert 's nickname ?</td>\n",
       "      <td>Bertie</td>\n",
       "      <td>Prince Albert 's nickname was Bertie .</td>\n",
       "      <td>Prince Albert 's nickname was Bertie .</td>\n",
       "      <td>8</td>\n",
       "      <td>3</td>\n",
       "      <td>9</td>\n",
       "      <td>11</td>\n",
       "    </tr>\n",
       "    <tr>\n",
       "      <th>1</th>\n",
       "      <td>SQuAD</td>\n",
       "      <td>572817584b864d1900164464</td>\n",
       "      <td>Where is the centre of London said to be located ?</td>\n",
       "      <td>Eleanor Cross at Charing Cross near the junction of Trafalgar Square and Whitehall</td>\n",
       "      <td>The centre of London is said to be located by the Eleanor Cross in Charing Cross near the junction of Trafalgar Square and Whitehall .</td>\n",
       "      <td>The centre of London is said to be located in Eleanor Cross at Charing Cross near the junction of Trafalgar Square and Whitehall .</td>\n",
       "      <td>11</td>\n",
       "      <td>18</td>\n",
       "      <td>29</td>\n",
       "      <td>29</td>\n",
       "    </tr>\n",
       "    <tr>\n",
       "      <th>2</th>\n",
       "      <td>SQuAD</td>\n",
       "      <td>57312c6005b4da19006bce36</td>\n",
       "      <td>What pigment was used to paint villas in ancient Rome ?</td>\n",
       "      <td>vermilion</td>\n",
       "      <td>Vermillion pigment was used to paint villas in ancient Rome .</td>\n",
       "      <td>Vermilion was used to paint villas in ancient Rome .</td>\n",
       "      <td>12</td>\n",
       "      <td>3</td>\n",
       "      <td>14</td>\n",
       "      <td>15</td>\n",
       "    </tr>\n",
       "    <tr>\n",
       "      <th>3</th>\n",
       "      <td>SQuAD</td>\n",
       "      <td>57266b70708984140094c56a</td>\n",
       "      <td>Who was the Queen 's first grandchild ?</td>\n",
       "      <td>Wilhelm</td>\n",
       "      <td>Wilhelm was the Queen 's first grandchild .</td>\n",
       "      <td>Wilhelm was the Queen 's first grandchild .</td>\n",
       "      <td>10</td>\n",
       "      <td>2</td>\n",
       "      <td>11</td>\n",
       "      <td>12</td>\n",
       "    </tr>\n",
       "    <tr>\n",
       "      <th>4</th>\n",
       "      <td>SQuAD</td>\n",
       "      <td>56db66a2e7c41114004b509a</td>\n",
       "      <td>Who did BMG partner with in 2005-2007 ?</td>\n",
       "      <td>Sony Music Entertainment</td>\n",
       "      <td>BMG partnered with Sony Music Entertainment in 2005-2007 .</td>\n",
       "      <td>BMG partner with Sony Music Entertainment in 2005-2007 .</td>\n",
       "      <td>11</td>\n",
       "      <td>3</td>\n",
       "      <td>12</td>\n",
       "      <td>14</td>\n",
       "    </tr>\n",
       "  </tbody>\n",
       "</table>\n",
       "</div>"
      ],
      "text/plain": [
       "  dataset               example_uid  \\\n",
       "0   SQuAD  572812523acd2414000df3bf   \n",
       "1   SQuAD  572817584b864d1900164464   \n",
       "2   SQuAD  57312c6005b4da19006bce36   \n",
       "3   SQuAD  57266b70708984140094c56a   \n",
       "4   SQuAD  56db66a2e7c41114004b509a   \n",
       "\n",
       "                                                  question  \\\n",
       "0                     What was Prince Albert 's nickname ?   \n",
       "1       Where is the centre of London said to be located ?   \n",
       "2  What pigment was used to paint villas in ancient Rome ?   \n",
       "3                  Who was the Queen 's first grandchild ?   \n",
       "4                  Who did BMG partner with in 2005-2007 ?   \n",
       "\n",
       "                                                                               answer  \\\n",
       "0                                                                              Bertie   \n",
       "1  Eleanor Cross at Charing Cross near the junction of Trafalgar Square and Whitehall   \n",
       "2                                                                           vermilion   \n",
       "3                                                                             Wilhelm   \n",
       "4                                                            Sony Music Entertainment   \n",
       "\n",
       "                                                                                                                            turker_answer  \\\n",
       "0                                                                                                  Prince Albert 's nickname was Bertie .   \n",
       "1  The centre of London is said to be located by the Eleanor Cross in Charing Cross near the junction of Trafalgar Square and Whitehall .   \n",
       "2                                                                           Vermillion pigment was used to paint villas in ancient Rome .   \n",
       "3                                                                                             Wilhelm was the Queen 's first grandchild .   \n",
       "4                                                                              BMG partnered with Sony Music Entertainment in 2005-2007 .   \n",
       "\n",
       "                                                                                                                           rule-based  \\\n",
       "0                                                                                              Prince Albert 's nickname was Bertie .   \n",
       "1  The centre of London is said to be located in Eleanor Cross at Charing Cross near the junction of Trafalgar Square and Whitehall .   \n",
       "2                                                                                Vermilion was used to paint villas in ancient Rome .   \n",
       "3                                                                                         Wilhelm was the Queen 's first grandchild .   \n",
       "4                                                                            BMG partner with Sony Music Entertainment in 2005-2007 .   \n",
       "\n",
       "   question_length  answer_length  turker_answer_length  target_length  \n",
       "0                8              3                     9             11  \n",
       "1               11             18                    29             29  \n",
       "2               12              3                    14             15  \n",
       "3               10              2                    11             12  \n",
       "4               11              3                    12             14  "
      ]
     },
     "execution_count": 92,
     "metadata": {},
     "output_type": "execute_result"
    }
   ],
   "source": [
    "qa2d_pd.head()"
   ]
  },
  {
   "cell_type": "code",
   "execution_count": 93,
   "id": "b7142104-06e1-4611-ac42-e3b9b4b1475f",
   "metadata": {},
   "outputs": [
    {
     "data": {
      "text/plain": [
       "dataset                                                       SQuAD\n",
       "example_uid                                5727e7003acd2414000def5a\n",
       "question                  What type of bridge originated in China ?\n",
       "answer                                                   suspension\n",
       "turker_answer           The suspension bridge originated in China .\n",
       "rule-based                         Suspension originated in China .\n",
       "question_length                                                   8\n",
       "answer_length                                                     2\n",
       "turker_answer_length                                              7\n",
       "target_length                                                    10\n",
       "Name: 65538, dtype: object"
      ]
     },
     "execution_count": 93,
     "metadata": {},
     "output_type": "execute_result"
    }
   ],
   "source": [
    "qa2d_pd.iloc[65504]"
   ]
  },
  {
   "cell_type": "code",
   "execution_count": 94,
   "id": "57a7f2e7-aa85-457a-bf3b-ec51091e0e85",
   "metadata": {},
   "outputs": [
    {
     "data": {
      "text/html": [
       "<div>\n",
       "<style scoped>\n",
       "    .dataframe tbody tr th:only-of-type {\n",
       "        vertical-align: middle;\n",
       "    }\n",
       "\n",
       "    .dataframe tbody tr th {\n",
       "        vertical-align: top;\n",
       "    }\n",
       "\n",
       "    .dataframe thead th {\n",
       "        text-align: right;\n",
       "    }\n",
       "</style>\n",
       "<table border=\"1\" class=\"dataframe\">\n",
       "  <thead>\n",
       "    <tr style=\"text-align: right;\">\n",
       "      <th></th>\n",
       "      <th>dataset</th>\n",
       "      <th>example_uid</th>\n",
       "      <th>question</th>\n",
       "      <th>answer</th>\n",
       "      <th>turker_answer</th>\n",
       "      <th>rule-based</th>\n",
       "      <th>question_length</th>\n",
       "      <th>answer_length</th>\n",
       "      <th>turker_answer_length</th>\n",
       "      <th>target_length</th>\n",
       "    </tr>\n",
       "  </thead>\n",
       "  <tbody>\n",
       "    <tr>\n",
       "      <th>65504</th>\n",
       "      <td>newsqa</td>\n",
       "      <td>13125</td>\n",
       "      <td>video ? Why did the police release the video ? Why did the police release the video?Why did the police release the video ? Why did the police release the video ? Why did the police release the video ? Why did the police release the video ? Why did the police release the video ? Why did the police release the video?Why did the police release the video ? Why did the police release the video ? Why did the police release the video ? Why did the police release the video ? Why did the police release the video ? Why did the police release the video?lease the video ? Why did the police release the video ? Why did the police release the video ? Why did the police release the video ? Why did the police release the video ?</td>\n",
       "      <td>in hopes it would lead someone to come forward .</td>\n",
       "      <td>The police released the video in hopes it would lead someone to come forward .</td>\n",
       "      <td>Video ? in hopes it would lead someone to come forward did the police release the video ? Why did the police release the video?Why did the police release the video ? Why did the police release the video ? Why did the police release the video ? Why did the police release the video ? Why did the police release the video ? Why did the police release the video?Why did the police release the video ? Why did the police release the video ? Why did the police release the video ? Why did the police release the video ? Why did the police release the video ? Why did the police release the video?lease the video ? Why did the police release the video ? Why did the police release the video ? Why did the police release the video ? Why did the police release the video .</td>\n",
       "      <td>150</td>\n",
       "      <td>10</td>\n",
       "      <td>15</td>\n",
       "      <td>160</td>\n",
       "    </tr>\n",
       "  </tbody>\n",
       "</table>\n",
       "</div>"
      ],
      "text/plain": [
       "      dataset example_uid  \\\n",
       "65504  newsqa       13125   \n",
       "\n",
       "                                                                                                                                                                                                                                                                                                                                                                                                                                                                                                                                                                                                                                                                                                                                                question  \\\n",
       "65504  video ? Why did the police release the video ? Why did the police release the video?Why did the police release the video ? Why did the police release the video ? Why did the police release the video ? Why did the police release the video ? Why did the police release the video ? Why did the police release the video?Why did the police release the video ? Why did the police release the video ? Why did the police release the video ? Why did the police release the video ? Why did the police release the video ? Why did the police release the video?lease the video ? Why did the police release the video ? Why did the police release the video ? Why did the police release the video ? Why did the police release the video ?   \n",
       "\n",
       "                                                 answer  \\\n",
       "65504  in hopes it would lead someone to come forward .   \n",
       "\n",
       "                                                                        turker_answer  \\\n",
       "65504  The police released the video in hopes it would lead someone to come forward .   \n",
       "\n",
       "                                                                                                                                                                                                                                                                                                                                                                                                                                                                                                                                                                                                                                                                                                                                                                                         rule-based  \\\n",
       "65504  Video ? in hopes it would lead someone to come forward did the police release the video ? Why did the police release the video?Why did the police release the video ? Why did the police release the video ? Why did the police release the video ? Why did the police release the video ? Why did the police release the video ? Why did the police release the video?Why did the police release the video ? Why did the police release the video ? Why did the police release the video ? Why did the police release the video ? Why did the police release the video ? Why did the police release the video?lease the video ? Why did the police release the video ? Why did the police release the video ? Why did the police release the video ? Why did the police release the video .   \n",
       "\n",
       "       question_length  answer_length  turker_answer_length  target_length  \n",
       "65504              150             10                    15            160  "
      ]
     },
     "execution_count": 94,
     "metadata": {},
     "output_type": "execute_result"
    }
   ],
   "source": [
    "# Let's drop this anomalous row\n",
    "qa2d_pd[qa2d_pd[\"question_length\"] > 100]"
   ]
  },
  {
   "cell_type": "code",
   "execution_count": 95,
   "id": "0629ec8e-25a2-4351-825e-a95eb790883c",
   "metadata": {},
   "outputs": [],
   "source": [
    "# Let's drop this anomalous row\n",
    "qa2d_pd.drop(65504, inplace=True)"
   ]
  },
  {
   "cell_type": "code",
   "execution_count": 96,
   "id": "46698e09-8ccc-4dda-9fec-3b5f294efe6d",
   "metadata": {},
   "outputs": [
    {
     "data": {
      "text/plain": [
       "84"
      ]
     },
     "execution_count": 96,
     "metadata": {},
     "output_type": "execute_result"
    }
   ],
   "source": [
    "qa2d_pd[\"turker_answer_length\"].max() # This seems fine for our purposes"
   ]
  },
  {
   "cell_type": "code",
   "execution_count": 97,
   "id": "d1786ed5-2650-47a5-9942-7379ae73557b",
   "metadata": {},
   "outputs": [],
   "source": [
    "import matplotlib.pyplot as plt"
   ]
  },
  {
   "cell_type": "code",
   "execution_count": 98,
   "id": "c812e51c-0cd5-463f-95e8-e19a20539de2",
   "metadata": {},
   "outputs": [
    {
     "data": {
      "image/png": "[encoded data removed]",
      "text/plain": [
       "<Figure size 1000x600 with 1 Axes>"
      ]
     },
     "metadata": {},
     "output_type": "display_data"
    }
   ],
   "source": [
    "plt.figure(figsize=(10, 6))\n",
    "plt.hist(qa2d_pd[\"target_length\"], bins=100, color=\"skyblue\", edgecolor=\"black\")\n",
    "plt.suptitle(\"Distribution of Target Lengths\")\n",
    "plt.title(\"Where the target length the sum of the lengths of question and answer.\")\n",
    "plt.xlabel(\"Length of Target (Token Count)\")\n",
    "plt.ylabel(\"Frequency\")\n",
    "plt.show() # Target refers to: Question? + Answer"
   ]
  },
  {
   "cell_type": "code",
   "execution_count": 99,
   "id": "f2ef770f-26ff-414e-85f5-3f570017b760",
   "metadata": {},
   "outputs": [
    {
     "data": {
      "image/png": "[encoded data removed]",
      "text/plain": [
       "<Figure size 1000x600 with 1 Axes>"
      ]
     },
     "metadata": {},
     "output_type": "display_data"
    }
   ],
   "source": [
    "plt.figure(figsize=(10, 6))\n",
    "plt.hist(qa2d_pd[\"turker_answer_length\"], bins=100, color=\"skyblue\", edgecolor=\"black\")\n",
    "plt.title(\"Distribution of Turker Answer Lengths\")\n",
    "plt.xlabel(\"Length of Turker Answer (Token Count)\")\n",
    "plt.ylabel(\"Frequency\")\n",
    "plt.show()"
   ]
  },
  {
   "cell_type": "markdown",
   "id": "2f41b107-7c67-4d40-835a-3787002616a2",
   "metadata": {},
   "source": [
    "## Dataset Preprocessing\n",
    "Now that we've finished our exploratory data analysis as well as its cleanup, let's bring back our dataset to a HuggingFace Dataset for preprocessing. We'll split the dataset into training, evaluation and test datasets. We'll then tokenize the question, answer and turker_answer features as they will serve as the main inputs and targets for our model."
   ]
  },
  {
   "cell_type": "code",
   "execution_count": 100,
   "id": "b9d8dac0-aa36-4bd6-8952-965e90d28af0",
   "metadata": {},
   "outputs": [
    {
     "name": "stdout",
     "output_type": "stream",
     "text": [
      "<class 'pandas.core.frame.DataFrame'>\n",
      "Index: 71013 entries, 0 to 71053\n",
      "Data columns (total 10 columns):\n",
      " #   Column                Non-Null Count  Dtype \n",
      "---  ------                --------------  ----- \n",
      " 0   dataset               71013 non-null  object\n",
      " 1   example_uid           71013 non-null  object\n",
      " 2   question              71013 non-null  object\n",
      " 3   answer                71013 non-null  object\n",
      " 4   turker_answer         71013 non-null  object\n",
      " 5   rule-based            71013 non-null  object\n",
      " 6   question_length       71013 non-null  int64 \n",
      " 7   answer_length         71013 non-null  int64 \n",
      " 8   turker_answer_length  71013 non-null  int64 \n",
      " 9   target_length         71013 non-null  int64 \n",
      "dtypes: int64(4), object(6)\n",
      "memory usage: 6.0+ MB\n"
     ]
    }
   ],
   "source": [
    "qa2d_pd.info()"
   ]
  },
  {
   "cell_type": "code",
   "execution_count": 101,
   "id": "d0b2f078-3800-40e4-9ae5-664486af1acc",
   "metadata": {},
   "outputs": [],
   "source": [
    "from datasets import Dataset\n",
    "qa2d = Dataset.from_pandas(qa2d_pd)"
   ]
  },
  {
   "cell_type": "code",
   "execution_count": 102,
   "id": "09d2e3cd-e1de-4be6-9375-1a7aaf8c1b62",
   "metadata": {},
   "outputs": [
    {
     "data": {
      "text/plain": [
       "Dataset({\n",
       "    features: ['dataset', 'example_uid', 'question', 'answer', 'turker_answer', 'rule-based', 'question_length', 'answer_length', 'turker_answer_length', 'target_length', '__index_level_0__'],\n",
       "    num_rows: 71013\n",
       "})"
      ]
     },
     "execution_count": 102,
     "metadata": {},
     "output_type": "execute_result"
    }
   ],
   "source": [
    "qa2d"
   ]
  },
  {
   "cell_type": "code",
   "execution_count": 103,
   "id": "e6cd0927-5754-4447-9e51-fa9f038dfc60",
   "metadata": {},
   "outputs": [],
   "source": [
    "from datasets import DatasetDict\n",
    "\n",
    "qa2d_train_test = qa2d.train_test_split(test_size=0.1)\n",
    "qa2d_train_validation = qa2d_train_test[\"test\"].train_test_split(test_size=0.5)\n",
    "\n",
    "qa2d = DatasetDict({\n",
    "    \"train\": qa2d_train_test[\"train\"],\n",
    "    \"eval\": qa2d_train_validation[\"train\"],\n",
    "    \"test\": qa2d_train_validation[\"test\"]\n",
    "})"
   ]
  },
  {
   "cell_type": "code",
   "execution_count": 104,
   "id": "6b3f8199-867d-4e68-a052-6b46fa344b86",
   "metadata": {},
   "outputs": [
    {
     "data": {
      "text/plain": [
       "DatasetDict({\n",
       "    train: Dataset({\n",
       "        features: ['dataset', 'example_uid', 'question', 'answer', 'turker_answer', 'rule-based', 'question_length', 'answer_length', 'turker_answer_length', 'target_length', '__index_level_0__'],\n",
       "        num_rows: 63911\n",
       "    })\n",
       "    eval: Dataset({\n",
       "        features: ['dataset', 'example_uid', 'question', 'answer', 'turker_answer', 'rule-based', 'question_length', 'answer_length', 'turker_answer_length', 'target_length', '__index_level_0__'],\n",
       "        num_rows: 3551\n",
       "    })\n",
       "    test: Dataset({\n",
       "        features: ['dataset', 'example_uid', 'question', 'answer', 'turker_answer', 'rule-based', 'question_length', 'answer_length', 'turker_answer_length', 'target_length', '__index_level_0__'],\n",
       "        num_rows: 3551\n",
       "    })\n",
       "})"
      ]
     },
     "execution_count": 104,
     "metadata": {},
     "output_type": "execute_result"
    }
   ],
   "source": [
    "qa2d # Make sure our dataset has been properly formatted"
   ]
  },
  {
   "cell_type": "code",
   "execution_count": 105,
   "id": "811d41dd-6326-431e-8e5a-45f950806e71",
   "metadata": {},
   "outputs": [
    {
     "name": "stdout",
     "output_type": "stream",
     "text": [
      "The Chinese capital was relocated to Chongqing during the Japanese occupation in the 20th century . => To which city was the Chinese capitol relocated to during Japanese occupation in the 20th century ? Chongqing\n",
      "Tmolus was chosen as the umpire of the trial of skill . => Who was chosen as umpire of the trial of skill ? Tmolus\n",
      "Microscopic projections are in the midgut wall . => What kind of projections are in the midgut wall ? Microscopic\n",
      "The British-French attacked the seaport of Taganrog with steamers and gunboats . => What seaport did the British-French attack with steamers and gunboats ? the seaport of Taganrog\n"
     ]
    }
   ],
   "source": [
    "def generate_targets(examples):\n",
    "    \"\"\"\n",
    "    Concatenates a question to its answer in the following format\n",
    "    (question)? (answer)\n",
    "    \"\"\"\n",
    "    return list(map(\n",
    "        lambda q, a: f\"{q} {a}\",\n",
    "        examples[\"question\"],\n",
    "        examples[\"answer\"],\n",
    "    ))\n",
    "\n",
    "# To make sure it outputs the right thing, let's test it here\n",
    "statements = qa2d[\"train\"][20:24]\n",
    "for sample in zip(statements[\"turker_answer\"], generate_targets(statements)):\n",
    "    print(f\"{sample[0]} => {sample[1]}\")"
   ]
  },
  {
   "cell_type": "code",
   "execution_count": 140,
   "id": "cb17d5f7-4e9f-4c37-89c6-957d06ad8ece",
   "metadata": {},
   "outputs": [],
   "source": [
    "def preprocess_function(examples):\n",
    "    \"\"\" \n",
    "    The objective of our model is to transform a sentence into a question.\n",
    "    To do so, the input to the model will be the sentence itself.\n",
    "    The output of the model is be the question followed by the answer.\n",
    "    \"\"\"\n",
    "    prompt = \"ask: \" # Each input will be formatted as \"ask: sentence...\"\n",
    "    inputs = [prompt + x for x in examples[\"turker_answer\"]] \n",
    "    # The output is of format \"question? answer\"\n",
    "    targets = generate_targets(examples)\n",
    "    \n",
    "    model_inputs = tokenizer(inputs, max_length=128, truncation=True, padding=True, return_overflowing_tokens=True, return_length=True)\n",
    "    labels = tokenizer(text_target=targets, max_length=128, truncation=True, padding=True, return_overflowing_tokens=True, return_length=True)\n",
    "    model_inputs[\"labels\"] = labels[\"input_ids\"]\n",
    "    return model_inputs"
   ]
  },
  {
   "cell_type": "code",
   "execution_count": 141,
   "id": "9ace8731-1012-4d4e-a318-3809baa7ba2c",
   "metadata": {},
   "outputs": [
    {
     "data": {
      "application/vnd.jupyter.widget-view+json": {
       "model_id": "73c574b0e9be418a833cd1641b22b5e0",
       "version_major": 2,
       "version_minor": 0
      },
      "text/plain": [
       "Map:   0%|          | 0/63911 [00:00<?, ? examples/s]"
      ]
     },
     "metadata": {},
     "output_type": "display_data"
    },
    {
     "data": {
      "application/vnd.jupyter.widget-view+json": {
       "model_id": "12b59eb14fb2461d920c6fcf686d6d79",
       "version_major": 2,
       "version_minor": 0
      },
      "text/plain": [
       "Map:   0%|          | 0/3551 [00:00<?, ? examples/s]"
      ]
     },
     "metadata": {},
     "output_type": "display_data"
    },
    {
     "data": {
      "application/vnd.jupyter.widget-view+json": {
       "model_id": "b8f025648c8642df81c91b212a9bf311",
       "version_major": 2,
       "version_minor": 0
      },
      "text/plain": [
       "Map:   0%|          | 0/3551 [00:00<?, ? examples/s]"
      ]
     },
     "metadata": {},
     "output_type": "display_data"
    }
   ],
   "source": [
    "tokenized_qa2d = qa2d.map(preprocess_function, batched=True) "
   ]
  },
  {
   "cell_type": "code",
   "execution_count": 142,
   "id": "928cccf1-7ac1-446e-b7ca-ba6ff6977ac6",
   "metadata": {},
   "outputs": [
    {
     "data": {
      "text/plain": [
       "DatasetDict({\n",
       "    train: Dataset({\n",
       "        features: ['dataset', 'example_uid', 'question', 'answer', 'turker_answer', 'rule-based', 'question_length', 'answer_length', 'turker_answer_length', 'target_length', '__index_level_0__', 'overflowing_tokens', 'num_truncated_tokens', 'input_ids', 'length', 'attention_mask', 'labels'],\n",
       "        num_rows: 63911\n",
       "    })\n",
       "    eval: Dataset({\n",
       "        features: ['dataset', 'example_uid', 'question', 'answer', 'turker_answer', 'rule-based', 'question_length', 'answer_length', 'turker_answer_length', 'target_length', '__index_level_0__', 'overflowing_tokens', 'num_truncated_tokens', 'input_ids', 'length', 'attention_mask', 'labels'],\n",
       "        num_rows: 3551\n",
       "    })\n",
       "    test: Dataset({\n",
       "        features: ['dataset', 'example_uid', 'question', 'answer', 'turker_answer', 'rule-based', 'question_length', 'answer_length', 'turker_answer_length', 'target_length', '__index_level_0__', 'overflowing_tokens', 'num_truncated_tokens', 'input_ids', 'length', 'attention_mask', 'labels'],\n",
       "        num_rows: 3551\n",
       "    })\n",
       "})"
      ]
     },
     "execution_count": 142,
     "metadata": {},
     "output_type": "execute_result"
    }
   ],
   "source": [
    "tokenized_qa2d"
   ]
  },
  {
   "cell_type": "code",
   "execution_count": 126,
   "id": "bd90d08c-e9c8-45b1-9ea6-96429166c9a6",
   "metadata": {},
   "outputs": [
    {
     "name": "stdout",
     "output_type": "stream",
     "text": [
      "What percentage of the critical habitat was protected for the area that received the first HCP? 87 %<|endoftext|><|endoftext|><|endoftext|><|endoftext|><|endoftext|><|endoftext|><|endoftext|><|endoftext|><|endoftext|><|endoftext|><|endoftext|><|endoftext|><|endoftext|><|endoftext|><|endoftext|><|endoftext|><|endoftext|><|endoftext|><|endoftext|><|endoftext|><|endoftext|><|endoftext|><|endoftext|><|endoftext|><|endoftext|><|endoftext|><|endoftext|>\n",
      "ask: 87 % of the critical habitat was protected for the area that received the first HCP.<|endoftext|><|endoftext|><|endoftext|><|endoftext|><|endoftext|><|endoftext|><|endoftext|><|endoftext|><|endoftext|><|endoftext|><|endoftext|><|endoftext|><|endoftext|><|endoftext|><|endoftext|><|endoftext|><|endoftext|><|endoftext|><|endoftext|><|endoftext|><|endoftext|><|endoftext|><|endoftext|><|endoftext|><|endoftext|><|endoftext|><|endoftext|><|endoftext|><|endoftext|>\n"
     ]
    }
   ],
   "source": [
    "print(tokenizer.decode(tokenized_qa2d[\"eval\"][4][\"labels\"]))\n",
    "print(tokenizer.decode(tokenized_qa2d[\"eval\"][4][\"input_ids\"]))"
   ]
  },
  {
   "cell_type": "markdown",
   "id": "04f84319-7a72-451f-8637-12db7cd559be",
   "metadata": {},
   "source": [
    "## Training the model\n",
    "To measure our model's performance, we will connect it to Tensorboard. We will employ the Rouge metric to evaluate the similarity between the desired output and the model's predictions."
   ]
  },
  {
   "cell_type": "code",
   "execution_count": 120,
   "id": "f486ea72-f928-4151-abbe-a8a9b9ffe42d",
   "metadata": {},
   "outputs": [],
   "source": [
    "import evaluate\n",
    "import numpy as np\n",
    "\n",
    "rouge = evaluate.load(\"rouge\")\n",
    "\n",
    "def compute_metrics(eval_pred):\n",
    "    predictions, labels = eval_pred\n",
    "    decoded_preds = tokenizer.batch_decode(predictions, skip_special_tokens=True)\n",
    "    labels = np.where(labels != -100, labels, tokenizer.pad_token_id)\n",
    "    decoded_labels = tokenizer.batch_decode(labels, skip_special_tokens=True)\n",
    "\n",
    "    result = rouge.compute(predictions=decoded_preds, references=decoded_labels, use_stemmer=True)\n",
    "\n",
    "    prediction_lens = [np.count_nonzero(pred != tokenizer.pad_token_id) for pred in predictions]\n",
    "    result[\"gen_len\"] = np.mean(prediction_lens)\n",
    "\n",
    "    return {k: round(v, 4) for k, v in result.items()}"
   ]
  },
  {
   "cell_type": "code",
   "execution_count": 137,
   "id": "1fb337a5-c3f3-4507-9de6-2e719a66eabe",
   "metadata": {},
   "outputs": [],
   "source": [
    "from transformers import GPT2LMHeadModel, AutoConfig, TrainingArguments, Trainer\n",
    "\n",
    "model = GPT2LMHeadModel.from_pretrained(checkpoint)"
   ]
  },
  {
   "cell_type": "code",
   "execution_count": 112,
   "id": "a21d2b74-6777-49e4-a904-8af023b54c8a",
   "metadata": {},
   "outputs": [
    {
     "data": {
      "text/html": [
       "\n",
       "      <iframe id=\"tensorboard-frame-264e9e647dbe358b\" width=\"100%\" height=\"800\" frameborder=\"0\">\n",
       "      </iframe>\n",
       "      <script>\n",
       "        (function() {\n",
       "          const frame = document.getElementById(\"tensorboard-frame-264e9e647dbe358b\");\n",
       "          const url = new URL(\"/\", window.location);\n",
       "          const port = 8080;\n",
       "          if (port) {\n",
       "            url.port = port;\n",
       "          }\n",
       "          frame.src = url;\n",
       "        })();\n",
       "      </script>\n",
       "    "
      ],
      "text/plain": [
       "<IPython.core.display.HTML object>"
      ]
     },
     "metadata": {},
     "output_type": "display_data"
    }
   ],
   "source": [
    "%load_ext tensorboard\n",
    "%tensorboard --logdir 'output_gpt2/runs' --host localhost --port 8080"
   ]
  },
  {
   "cell_type": "code",
   "execution_count": 127,
   "id": "4355c95d-142b-4121-ba5a-6b26396a6375",
   "metadata": {},
   "outputs": [],
   "source": [
    "from transformers import DataCollatorForLanguageModeling\n",
    "\n",
    "data_collator = DataCollatorForLanguageModeling(tokenizer=tokenizer, mlm=False,return_tensors='pt')"
   ]
  },
  {
   "cell_type": "code",
   "execution_count": 143,
   "id": "03f04123-dd67-46cb-b1f5-515c0a74f8c9",
   "metadata": {},
   "outputs": [
    {
     "ename": "ValueError",
     "evalue": "Unable to create tensor, you should probably activate truncation and/or padding with 'padding=True' 'truncation=True' to have batched tensors with the same length. Perhaps your features (`dataset` in this case) have excessive nesting (inputs type `list` where type `int` is expected).",
     "output_type": "error",
     "traceback": [
      "\u001b[1;31m---------------------------------------------------------------------------\u001b[0m",
      "\u001b[1;31mValueError\u001b[0m                                Traceback (most recent call last)",
      "File \u001b[1;32mD:\\MyProjects\\DawsonAI\\.env\\Lib\\site-packages\\transformers\\tokenization_utils_base.py:748\u001b[0m, in \u001b[0;36mBatchEncoding.convert_to_tensors\u001b[1;34m(self, tensor_type, prepend_batch_axis)\u001b[0m\n\u001b[0;32m    747\u001b[0m \u001b[38;5;28;01mif\u001b[39;00m \u001b[38;5;129;01mnot\u001b[39;00m is_tensor(value):\n\u001b[1;32m--> 748\u001b[0m     tensor \u001b[38;5;241m=\u001b[39m \u001b[43mas_tensor\u001b[49m\u001b[43m(\u001b[49m\u001b[43mvalue\u001b[49m\u001b[43m)\u001b[49m\n\u001b[0;32m    750\u001b[0m     \u001b[38;5;66;03m# Removing this for now in favor of controlling the shape with `prepend_batch_axis`\u001b[39;00m\n\u001b[0;32m    751\u001b[0m     \u001b[38;5;66;03m# # at-least2d\u001b[39;00m\n\u001b[0;32m    752\u001b[0m     \u001b[38;5;66;03m# if tensor.ndim > 2:\u001b[39;00m\n\u001b[0;32m    753\u001b[0m     \u001b[38;5;66;03m#     tensor = tensor.squeeze(0)\u001b[39;00m\n\u001b[0;32m    754\u001b[0m     \u001b[38;5;66;03m# elif tensor.ndim < 2:\u001b[39;00m\n\u001b[0;32m    755\u001b[0m     \u001b[38;5;66;03m#     tensor = tensor[None, :]\u001b[39;00m\n",
      "File \u001b[1;32mD:\\MyProjects\\DawsonAI\\.env\\Lib\\site-packages\\transformers\\tokenization_utils_base.py:720\u001b[0m, in \u001b[0;36mBatchEncoding.convert_to_tensors.<locals>.as_tensor\u001b[1;34m(value, dtype)\u001b[0m\n\u001b[0;32m    719\u001b[0m     \u001b[38;5;28;01mreturn\u001b[39;00m torch\u001b[38;5;241m.\u001b[39mtensor(np\u001b[38;5;241m.\u001b[39marray(value))\n\u001b[1;32m--> 720\u001b[0m \u001b[38;5;28;01mreturn\u001b[39;00m \u001b[43mtorch\u001b[49m\u001b[38;5;241;43m.\u001b[39;49m\u001b[43mtensor\u001b[49m\u001b[43m(\u001b[49m\u001b[43mvalue\u001b[49m\u001b[43m)\u001b[49m\n",
      "\u001b[1;31mValueError\u001b[0m: too many dimensions 'str'",
      "\nThe above exception was the direct cause of the following exception:\n",
      "\u001b[1;31mValueError\u001b[0m                                Traceback (most recent call last)",
      "Cell \u001b[1;32mIn[143], line 1\u001b[0m\n\u001b[1;32m----> 1\u001b[0m \u001b[43mdata_collator\u001b[49m\u001b[43m(\u001b[49m\u001b[43m[\u001b[49m\u001b[43mtokenized_qa2d\u001b[49m\u001b[43m[\u001b[49m\u001b[38;5;124;43m\"\u001b[39;49m\u001b[38;5;124;43mtrain\u001b[39;49m\u001b[38;5;124;43m\"\u001b[39;49m\u001b[43m]\u001b[49m\u001b[43m[\u001b[49m\u001b[43mi\u001b[49m\u001b[43m]\u001b[49m\u001b[43m \u001b[49m\u001b[38;5;28;43;01mfor\u001b[39;49;00m\u001b[43m \u001b[49m\u001b[43mi\u001b[49m\u001b[43m \u001b[49m\u001b[38;5;129;43;01min\u001b[39;49;00m\u001b[43m \u001b[49m\u001b[38;5;28;43mrange\u001b[39;49m\u001b[43m(\u001b[49m\u001b[38;5;241;43m5\u001b[39;49m\u001b[43m)\u001b[49m\u001b[43m]\u001b[49m\u001b[43m)\u001b[49m\n",
      "File \u001b[1;32mD:\\MyProjects\\DawsonAI\\.env\\Lib\\site-packages\\transformers\\data\\data_collator.py:45\u001b[0m, in \u001b[0;36mDataCollatorMixin.__call__\u001b[1;34m(self, features, return_tensors)\u001b[0m\n\u001b[0;32m     43\u001b[0m     \u001b[38;5;28;01mreturn\u001b[39;00m \u001b[38;5;28mself\u001b[39m\u001b[38;5;241m.\u001b[39mtf_call(features)\n\u001b[0;32m     44\u001b[0m \u001b[38;5;28;01melif\u001b[39;00m return_tensors \u001b[38;5;241m==\u001b[39m \u001b[38;5;124m\"\u001b[39m\u001b[38;5;124mpt\u001b[39m\u001b[38;5;124m\"\u001b[39m:\n\u001b[1;32m---> 45\u001b[0m     \u001b[38;5;28;01mreturn\u001b[39;00m \u001b[38;5;28;43mself\u001b[39;49m\u001b[38;5;241;43m.\u001b[39;49m\u001b[43mtorch_call\u001b[49m\u001b[43m(\u001b[49m\u001b[43mfeatures\u001b[49m\u001b[43m)\u001b[49m\n\u001b[0;32m     46\u001b[0m \u001b[38;5;28;01melif\u001b[39;00m return_tensors \u001b[38;5;241m==\u001b[39m \u001b[38;5;124m\"\u001b[39m\u001b[38;5;124mnp\u001b[39m\u001b[38;5;124m\"\u001b[39m:\n\u001b[0;32m     47\u001b[0m     \u001b[38;5;28;01mreturn\u001b[39;00m \u001b[38;5;28mself\u001b[39m\u001b[38;5;241m.\u001b[39mnumpy_call(features)\n",
      "File \u001b[1;32mD:\\MyProjects\\DawsonAI\\.env\\Lib\\site-packages\\transformers\\data\\data_collator.py:761\u001b[0m, in \u001b[0;36mDataCollatorForLanguageModeling.torch_call\u001b[1;34m(self, examples)\u001b[0m\n\u001b[0;32m    758\u001b[0m \u001b[38;5;28;01mdef\u001b[39;00m \u001b[38;5;21mtorch_call\u001b[39m(\u001b[38;5;28mself\u001b[39m, examples: List[Union[List[\u001b[38;5;28mint\u001b[39m], Any, Dict[\u001b[38;5;28mstr\u001b[39m, Any]]]) \u001b[38;5;241m-\u001b[39m\u001b[38;5;241m>\u001b[39m Dict[\u001b[38;5;28mstr\u001b[39m, Any]:\n\u001b[0;32m    759\u001b[0m     \u001b[38;5;66;03m# Handle dict or lists with proper padding and conversion to tensor.\u001b[39;00m\n\u001b[0;32m    760\u001b[0m     \u001b[38;5;28;01mif\u001b[39;00m \u001b[38;5;28misinstance\u001b[39m(examples[\u001b[38;5;241m0\u001b[39m], Mapping):\n\u001b[1;32m--> 761\u001b[0m         batch \u001b[38;5;241m=\u001b[39m \u001b[43mpad_without_fast_tokenizer_warning\u001b[49m\u001b[43m(\u001b[49m\n\u001b[0;32m    762\u001b[0m \u001b[43m            \u001b[49m\u001b[38;5;28;43mself\u001b[39;49m\u001b[38;5;241;43m.\u001b[39;49m\u001b[43mtokenizer\u001b[49m\u001b[43m,\u001b[49m\u001b[43m \u001b[49m\u001b[43mexamples\u001b[49m\u001b[43m,\u001b[49m\u001b[43m \u001b[49m\u001b[43mreturn_tensors\u001b[49m\u001b[38;5;241;43m=\u001b[39;49m\u001b[38;5;124;43m\"\u001b[39;49m\u001b[38;5;124;43mpt\u001b[39;49m\u001b[38;5;124;43m\"\u001b[39;49m\u001b[43m,\u001b[49m\u001b[43m \u001b[49m\u001b[43mpad_to_multiple_of\u001b[49m\u001b[38;5;241;43m=\u001b[39;49m\u001b[38;5;28;43mself\u001b[39;49m\u001b[38;5;241;43m.\u001b[39;49m\u001b[43mpad_to_multiple_of\u001b[49m\n\u001b[0;32m    763\u001b[0m \u001b[43m        \u001b[49m\u001b[43m)\u001b[49m\n\u001b[0;32m    764\u001b[0m     \u001b[38;5;28;01melse\u001b[39;00m:\n\u001b[0;32m    765\u001b[0m         batch \u001b[38;5;241m=\u001b[39m {\n\u001b[0;32m    766\u001b[0m             \u001b[38;5;124m\"\u001b[39m\u001b[38;5;124minput_ids\u001b[39m\u001b[38;5;124m\"\u001b[39m: _torch_collate_batch(examples, \u001b[38;5;28mself\u001b[39m\u001b[38;5;241m.\u001b[39mtokenizer, pad_to_multiple_of\u001b[38;5;241m=\u001b[39m\u001b[38;5;28mself\u001b[39m\u001b[38;5;241m.\u001b[39mpad_to_multiple_of)\n\u001b[0;32m    767\u001b[0m         }\n",
      "File \u001b[1;32mD:\\MyProjects\\DawsonAI\\.env\\Lib\\site-packages\\transformers\\data\\data_collator.py:66\u001b[0m, in \u001b[0;36mpad_without_fast_tokenizer_warning\u001b[1;34m(tokenizer, *pad_args, **pad_kwargs)\u001b[0m\n\u001b[0;32m     63\u001b[0m tokenizer\u001b[38;5;241m.\u001b[39mdeprecation_warnings[\u001b[38;5;124m\"\u001b[39m\u001b[38;5;124mAsking-to-pad-a-fast-tokenizer\u001b[39m\u001b[38;5;124m\"\u001b[39m] \u001b[38;5;241m=\u001b[39m \u001b[38;5;28;01mTrue\u001b[39;00m\n\u001b[0;32m     65\u001b[0m \u001b[38;5;28;01mtry\u001b[39;00m:\n\u001b[1;32m---> 66\u001b[0m     padded \u001b[38;5;241m=\u001b[39m \u001b[43mtokenizer\u001b[49m\u001b[38;5;241;43m.\u001b[39;49m\u001b[43mpad\u001b[49m\u001b[43m(\u001b[49m\u001b[38;5;241;43m*\u001b[39;49m\u001b[43mpad_args\u001b[49m\u001b[43m,\u001b[49m\u001b[43m \u001b[49m\u001b[38;5;241;43m*\u001b[39;49m\u001b[38;5;241;43m*\u001b[39;49m\u001b[43mpad_kwargs\u001b[49m\u001b[43m)\u001b[49m\n\u001b[0;32m     67\u001b[0m \u001b[38;5;28;01mfinally\u001b[39;00m:\n\u001b[0;32m     68\u001b[0m     \u001b[38;5;66;03m# Restore the state of the warning.\u001b[39;00m\n\u001b[0;32m     69\u001b[0m     tokenizer\u001b[38;5;241m.\u001b[39mdeprecation_warnings[\u001b[38;5;124m\"\u001b[39m\u001b[38;5;124mAsking-to-pad-a-fast-tokenizer\u001b[39m\u001b[38;5;124m\"\u001b[39m] \u001b[38;5;241m=\u001b[39m warning_state\n",
      "File \u001b[1;32mD:\\MyProjects\\DawsonAI\\.env\\Lib\\site-packages\\transformers\\tokenization_utils_base.py:3326\u001b[0m, in \u001b[0;36mPreTrainedTokenizerBase.pad\u001b[1;34m(self, encoded_inputs, padding, max_length, pad_to_multiple_of, return_attention_mask, return_tensors, verbose)\u001b[0m\n\u001b[0;32m   3323\u001b[0m             batch_outputs[key] \u001b[38;5;241m=\u001b[39m []\n\u001b[0;32m   3324\u001b[0m         batch_outputs[key]\u001b[38;5;241m.\u001b[39mappend(value)\n\u001b[1;32m-> 3326\u001b[0m \u001b[38;5;28;01mreturn\u001b[39;00m \u001b[43mBatchEncoding\u001b[49m\u001b[43m(\u001b[49m\u001b[43mbatch_outputs\u001b[49m\u001b[43m,\u001b[49m\u001b[43m \u001b[49m\u001b[43mtensor_type\u001b[49m\u001b[38;5;241;43m=\u001b[39;49m\u001b[43mreturn_tensors\u001b[49m\u001b[43m)\u001b[49m\n",
      "File \u001b[1;32mD:\\MyProjects\\DawsonAI\\.env\\Lib\\site-packages\\transformers\\tokenization_utils_base.py:223\u001b[0m, in \u001b[0;36mBatchEncoding.__init__\u001b[1;34m(self, data, encoding, tensor_type, prepend_batch_axis, n_sequences)\u001b[0m\n\u001b[0;32m    219\u001b[0m     n_sequences \u001b[38;5;241m=\u001b[39m encoding[\u001b[38;5;241m0\u001b[39m]\u001b[38;5;241m.\u001b[39mn_sequences\n\u001b[0;32m    221\u001b[0m \u001b[38;5;28mself\u001b[39m\u001b[38;5;241m.\u001b[39m_n_sequences \u001b[38;5;241m=\u001b[39m n_sequences\n\u001b[1;32m--> 223\u001b[0m \u001b[38;5;28;43mself\u001b[39;49m\u001b[38;5;241;43m.\u001b[39;49m\u001b[43mconvert_to_tensors\u001b[49m\u001b[43m(\u001b[49m\u001b[43mtensor_type\u001b[49m\u001b[38;5;241;43m=\u001b[39;49m\u001b[43mtensor_type\u001b[49m\u001b[43m,\u001b[49m\u001b[43m \u001b[49m\u001b[43mprepend_batch_axis\u001b[49m\u001b[38;5;241;43m=\u001b[39;49m\u001b[43mprepend_batch_axis\u001b[49m\u001b[43m)\u001b[49m\n",
      "File \u001b[1;32mD:\\MyProjects\\DawsonAI\\.env\\Lib\\site-packages\\transformers\\tokenization_utils_base.py:764\u001b[0m, in \u001b[0;36mBatchEncoding.convert_to_tensors\u001b[1;34m(self, tensor_type, prepend_batch_axis)\u001b[0m\n\u001b[0;32m    759\u001b[0m         \u001b[38;5;28;01mif\u001b[39;00m key \u001b[38;5;241m==\u001b[39m \u001b[38;5;124m\"\u001b[39m\u001b[38;5;124moverflowing_tokens\u001b[39m\u001b[38;5;124m\"\u001b[39m:\n\u001b[0;32m    760\u001b[0m             \u001b[38;5;28;01mraise\u001b[39;00m \u001b[38;5;167;01mValueError\u001b[39;00m(\n\u001b[0;32m    761\u001b[0m                 \u001b[38;5;124m\"\u001b[39m\u001b[38;5;124mUnable to create tensor returning overflowing tokens of different lengths. \u001b[39m\u001b[38;5;124m\"\u001b[39m\n\u001b[0;32m    762\u001b[0m                 \u001b[38;5;124m\"\u001b[39m\u001b[38;5;124mPlease see if a fast version of this tokenizer is available to have this feature available.\u001b[39m\u001b[38;5;124m\"\u001b[39m\n\u001b[0;32m    763\u001b[0m             ) \u001b[38;5;28;01mfrom\u001b[39;00m \u001b[38;5;21;01me\u001b[39;00m\n\u001b[1;32m--> 764\u001b[0m         \u001b[38;5;28;01mraise\u001b[39;00m \u001b[38;5;167;01mValueError\u001b[39;00m(\n\u001b[0;32m    765\u001b[0m             \u001b[38;5;124m\"\u001b[39m\u001b[38;5;124mUnable to create tensor, you should probably activate truncation and/or padding with\u001b[39m\u001b[38;5;124m\"\u001b[39m\n\u001b[0;32m    766\u001b[0m             \u001b[38;5;124m\"\u001b[39m\u001b[38;5;124m \u001b[39m\u001b[38;5;124m'\u001b[39m\u001b[38;5;124mpadding=True\u001b[39m\u001b[38;5;124m'\u001b[39m\u001b[38;5;124m \u001b[39m\u001b[38;5;124m'\u001b[39m\u001b[38;5;124mtruncation=True\u001b[39m\u001b[38;5;124m'\u001b[39m\u001b[38;5;124m to have batched tensors with the same length. Perhaps your\u001b[39m\u001b[38;5;124m\"\u001b[39m\n\u001b[0;32m    767\u001b[0m             \u001b[38;5;124mf\u001b[39m\u001b[38;5;124m\"\u001b[39m\u001b[38;5;124m features (`\u001b[39m\u001b[38;5;132;01m{\u001b[39;00mkey\u001b[38;5;132;01m}\u001b[39;00m\u001b[38;5;124m` in this case) have excessive nesting (inputs type `list` where type `int` is\u001b[39m\u001b[38;5;124m\"\u001b[39m\n\u001b[0;32m    768\u001b[0m             \u001b[38;5;124m\"\u001b[39m\u001b[38;5;124m expected).\u001b[39m\u001b[38;5;124m\"\u001b[39m\n\u001b[0;32m    769\u001b[0m         ) \u001b[38;5;28;01mfrom\u001b[39;00m \u001b[38;5;21;01me\u001b[39;00m\n\u001b[0;32m    771\u001b[0m \u001b[38;5;28;01mreturn\u001b[39;00m \u001b[38;5;28mself\u001b[39m\n",
      "\u001b[1;31mValueError\u001b[0m: Unable to create tensor, you should probably activate truncation and/or padding with 'padding=True' 'truncation=True' to have batched tensors with the same length. Perhaps your features (`dataset` in this case) have excessive nesting (inputs type `list` where type `int` is expected)."
     ]
    }
   ],
   "source": [
    "data_collator([tokenized_qa2d[\"train\"][i] for i in range(5)])"
   ]
  },
  {
   "cell_type": "code",
   "execution_count": 128,
   "id": "52e28d04-e9ab-42e4-a56c-695a2419ddfc",
   "metadata": {},
   "outputs": [],
   "source": [
    "training_args = TrainingArguments(\n",
    "    # Evaluation Parameters\n",
    "    evaluation_strategy=\"steps\",\n",
    "    eval_steps=100,\n",
    "    # Logging parameters\n",
    "    logging_strategy=\"steps\",\n",
    "    logging_steps=100,\n",
    "    # Save parameters  \n",
    "    save_strategy=\"steps\",\n",
    "    save_steps=200,\n",
    "    \n",
    "    output_dir=\"./output_gpt2\",\n",
    "    num_train_epochs=3,\n",
    "    learning_rate=5e-4,\n",
    "    per_device_train_batch_size=16,\n",
    "    per_device_eval_batch_size=16,\n",
    "    weight_decay=0.01,\n",
    "    load_best_model_at_end=True,\n",
    "    metric_for_best_model=\"rouge1\",\n",
    "    fp16=True,\n",
    "    report_to=\"tensorboard\"\n",
    ")\n",
    "\n",
    "trainer = Trainer(\n",
    "    model=model,\n",
    "    args=training_args,\n",
    "    train_dataset=tokenized_qa2d[\"train\"], \n",
    "    eval_dataset=tokenized_qa2d[\"eval\"],\n",
    "    tokenizer=tokenizer,\n",
    "    data_collator=data_collator,\n",
    "    compute_metrics=compute_metrics,\n",
    ")"
   ]
  },
  {
   "cell_type": "code",
   "execution_count": 129,
   "id": "b707752c-ead7-4e26-a90e-0bf1e8a47a40",
   "metadata": {},
   "outputs": [
    {
     "ename": "ValueError",
     "evalue": "Unable to create tensor, you should probably activate truncation and/or padding with 'padding=True' 'truncation=True' to have batched tensors with the same length. Perhaps your features (`labels` in this case) have excessive nesting (inputs type `list` where type `int` is expected).",
     "output_type": "error",
     "traceback": [
      "\u001b[1;31m---------------------------------------------------------------------------\u001b[0m",
      "\u001b[1;31mValueError\u001b[0m                                Traceback (most recent call last)",
      "File \u001b[1;32mD:\\MyProjects\\DawsonAI\\.env\\Lib\\site-packages\\transformers\\tokenization_utils_base.py:748\u001b[0m, in \u001b[0;36mBatchEncoding.convert_to_tensors\u001b[1;34m(self, tensor_type, prepend_batch_axis)\u001b[0m\n\u001b[0;32m    747\u001b[0m \u001b[38;5;28;01mif\u001b[39;00m \u001b[38;5;129;01mnot\u001b[39;00m is_tensor(value):\n\u001b[1;32m--> 748\u001b[0m     tensor \u001b[38;5;241m=\u001b[39m \u001b[43mas_tensor\u001b[49m\u001b[43m(\u001b[49m\u001b[43mvalue\u001b[49m\u001b[43m)\u001b[49m\n\u001b[0;32m    750\u001b[0m     \u001b[38;5;66;03m# Removing this for now in favor of controlling the shape with `prepend_batch_axis`\u001b[39;00m\n\u001b[0;32m    751\u001b[0m     \u001b[38;5;66;03m# # at-least2d\u001b[39;00m\n\u001b[0;32m    752\u001b[0m     \u001b[38;5;66;03m# if tensor.ndim > 2:\u001b[39;00m\n\u001b[0;32m    753\u001b[0m     \u001b[38;5;66;03m#     tensor = tensor.squeeze(0)\u001b[39;00m\n\u001b[0;32m    754\u001b[0m     \u001b[38;5;66;03m# elif tensor.ndim < 2:\u001b[39;00m\n\u001b[0;32m    755\u001b[0m     \u001b[38;5;66;03m#     tensor = tensor[None, :]\u001b[39;00m\n",
      "File \u001b[1;32mD:\\MyProjects\\DawsonAI\\.env\\Lib\\site-packages\\transformers\\tokenization_utils_base.py:720\u001b[0m, in \u001b[0;36mBatchEncoding.convert_to_tensors.<locals>.as_tensor\u001b[1;34m(value, dtype)\u001b[0m\n\u001b[0;32m    719\u001b[0m     \u001b[38;5;28;01mreturn\u001b[39;00m torch\u001b[38;5;241m.\u001b[39mtensor(np\u001b[38;5;241m.\u001b[39marray(value))\n\u001b[1;32m--> 720\u001b[0m \u001b[38;5;28;01mreturn\u001b[39;00m \u001b[43mtorch\u001b[49m\u001b[38;5;241;43m.\u001b[39;49m\u001b[43mtensor\u001b[49m\u001b[43m(\u001b[49m\u001b[43mvalue\u001b[49m\u001b[43m)\u001b[49m\n",
      "\u001b[1;31mValueError\u001b[0m: expected sequence of length 60 at dim 1 (got 53)",
      "\nThe above exception was the direct cause of the following exception:\n",
      "\u001b[1;31mValueError\u001b[0m                                Traceback (most recent call last)",
      "Cell \u001b[1;32mIn[129], line 1\u001b[0m\n\u001b[1;32m----> 1\u001b[0m \u001b[43mtrainer\u001b[49m\u001b[38;5;241;43m.\u001b[39;49m\u001b[43mtrain\u001b[49m\u001b[43m(\u001b[49m\u001b[43m)\u001b[49m\n",
      "File \u001b[1;32mD:\\MyProjects\\DawsonAI\\.env\\Lib\\site-packages\\transformers\\trainer.py:1624\u001b[0m, in \u001b[0;36mTrainer.train\u001b[1;34m(self, resume_from_checkpoint, trial, ignore_keys_for_eval, **kwargs)\u001b[0m\n\u001b[0;32m   1622\u001b[0m         hf_hub_utils\u001b[38;5;241m.\u001b[39menable_progress_bars()\n\u001b[0;32m   1623\u001b[0m \u001b[38;5;28;01melse\u001b[39;00m:\n\u001b[1;32m-> 1624\u001b[0m     \u001b[38;5;28;01mreturn\u001b[39;00m \u001b[43minner_training_loop\u001b[49m\u001b[43m(\u001b[49m\n\u001b[0;32m   1625\u001b[0m \u001b[43m        \u001b[49m\u001b[43margs\u001b[49m\u001b[38;5;241;43m=\u001b[39;49m\u001b[43margs\u001b[49m\u001b[43m,\u001b[49m\n\u001b[0;32m   1626\u001b[0m \u001b[43m        \u001b[49m\u001b[43mresume_from_checkpoint\u001b[49m\u001b[38;5;241;43m=\u001b[39;49m\u001b[43mresume_from_checkpoint\u001b[49m\u001b[43m,\u001b[49m\n\u001b[0;32m   1627\u001b[0m \u001b[43m        \u001b[49m\u001b[43mtrial\u001b[49m\u001b[38;5;241;43m=\u001b[39;49m\u001b[43mtrial\u001b[49m\u001b[43m,\u001b[49m\n\u001b[0;32m   1628\u001b[0m \u001b[43m        \u001b[49m\u001b[43mignore_keys_for_eval\u001b[49m\u001b[38;5;241;43m=\u001b[39;49m\u001b[43mignore_keys_for_eval\u001b[49m\u001b[43m,\u001b[49m\n\u001b[0;32m   1629\u001b[0m \u001b[43m    \u001b[49m\u001b[43m)\u001b[49m\n",
      "File \u001b[1;32mD:\\MyProjects\\DawsonAI\\.env\\Lib\\site-packages\\transformers\\trainer.py:1928\u001b[0m, in \u001b[0;36mTrainer._inner_training_loop\u001b[1;34m(self, batch_size, args, resume_from_checkpoint, trial, ignore_keys_for_eval)\u001b[0m\n\u001b[0;32m   1925\u001b[0m     rng_to_sync \u001b[38;5;241m=\u001b[39m \u001b[38;5;28;01mTrue\u001b[39;00m\n\u001b[0;32m   1927\u001b[0m step \u001b[38;5;241m=\u001b[39m \u001b[38;5;241m-\u001b[39m\u001b[38;5;241m1\u001b[39m\n\u001b[1;32m-> 1928\u001b[0m \u001b[43m\u001b[49m\u001b[38;5;28;43;01mfor\u001b[39;49;00m\u001b[43m \u001b[49m\u001b[43mstep\u001b[49m\u001b[43m,\u001b[49m\u001b[43m \u001b[49m\u001b[43minputs\u001b[49m\u001b[43m \u001b[49m\u001b[38;5;129;43;01min\u001b[39;49;00m\u001b[43m \u001b[49m\u001b[38;5;28;43menumerate\u001b[39;49m\u001b[43m(\u001b[49m\u001b[43mepoch_iterator\u001b[49m\u001b[43m)\u001b[49m\u001b[43m:\u001b[49m\n\u001b[0;32m   1929\u001b[0m \u001b[43m    \u001b[49m\u001b[43mtotal_batched_samples\u001b[49m\u001b[43m \u001b[49m\u001b[38;5;241;43m+\u001b[39;49m\u001b[38;5;241;43m=\u001b[39;49m\u001b[43m \u001b[49m\u001b[38;5;241;43m1\u001b[39;49m\n\u001b[0;32m   1931\u001b[0m \u001b[43m    \u001b[49m\u001b[38;5;28;43;01mif\u001b[39;49;00m\u001b[43m \u001b[49m\u001b[38;5;28;43mself\u001b[39;49m\u001b[38;5;241;43m.\u001b[39;49m\u001b[43margs\u001b[49m\u001b[38;5;241;43m.\u001b[39;49m\u001b[43minclude_num_input_tokens_seen\u001b[49m\u001b[43m:\u001b[49m\n",
      "File \u001b[1;32mD:\\MyProjects\\DawsonAI\\.env\\Lib\\site-packages\\accelerate\\data_loader.py:452\u001b[0m, in \u001b[0;36mDataLoaderShard.__iter__\u001b[1;34m(self)\u001b[0m\n\u001b[0;32m    450\u001b[0m \u001b[38;5;66;03m# We iterate one batch ahead to check when we are at the end\u001b[39;00m\n\u001b[0;32m    451\u001b[0m \u001b[38;5;28;01mtry\u001b[39;00m:\n\u001b[1;32m--> 452\u001b[0m     current_batch \u001b[38;5;241m=\u001b[39m \u001b[38;5;28;43mnext\u001b[39;49m\u001b[43m(\u001b[49m\u001b[43mdataloader_iter\u001b[49m\u001b[43m)\u001b[49m\n\u001b[0;32m    453\u001b[0m \u001b[38;5;28;01mexcept\u001b[39;00m \u001b[38;5;167;01mStopIteration\u001b[39;00m:\n\u001b[0;32m    454\u001b[0m     \u001b[38;5;28;01myield\u001b[39;00m\n",
      "File \u001b[1;32mD:\\MyProjects\\DawsonAI\\.env\\Lib\\site-packages\\torch\\utils\\data\\dataloader.py:631\u001b[0m, in \u001b[0;36m_BaseDataLoaderIter.__next__\u001b[1;34m(self)\u001b[0m\n\u001b[0;32m    628\u001b[0m \u001b[38;5;28;01mif\u001b[39;00m \u001b[38;5;28mself\u001b[39m\u001b[38;5;241m.\u001b[39m_sampler_iter \u001b[38;5;129;01mis\u001b[39;00m \u001b[38;5;28;01mNone\u001b[39;00m:\n\u001b[0;32m    629\u001b[0m     \u001b[38;5;66;03m# TODO(https://github.com/pytorch/pytorch/issues/76750)\u001b[39;00m\n\u001b[0;32m    630\u001b[0m     \u001b[38;5;28mself\u001b[39m\u001b[38;5;241m.\u001b[39m_reset()  \u001b[38;5;66;03m# type: ignore[call-arg]\u001b[39;00m\n\u001b[1;32m--> 631\u001b[0m data \u001b[38;5;241m=\u001b[39m \u001b[38;5;28;43mself\u001b[39;49m\u001b[38;5;241;43m.\u001b[39;49m\u001b[43m_next_data\u001b[49m\u001b[43m(\u001b[49m\u001b[43m)\u001b[49m\n\u001b[0;32m    632\u001b[0m \u001b[38;5;28mself\u001b[39m\u001b[38;5;241m.\u001b[39m_num_yielded \u001b[38;5;241m+\u001b[39m\u001b[38;5;241m=\u001b[39m \u001b[38;5;241m1\u001b[39m\n\u001b[0;32m    633\u001b[0m \u001b[38;5;28;01mif\u001b[39;00m \u001b[38;5;28mself\u001b[39m\u001b[38;5;241m.\u001b[39m_dataset_kind \u001b[38;5;241m==\u001b[39m _DatasetKind\u001b[38;5;241m.\u001b[39mIterable \u001b[38;5;129;01mand\u001b[39;00m \\\n\u001b[0;32m    634\u001b[0m         \u001b[38;5;28mself\u001b[39m\u001b[38;5;241m.\u001b[39m_IterableDataset_len_called \u001b[38;5;129;01mis\u001b[39;00m \u001b[38;5;129;01mnot\u001b[39;00m \u001b[38;5;28;01mNone\u001b[39;00m \u001b[38;5;129;01mand\u001b[39;00m \\\n\u001b[0;32m    635\u001b[0m         \u001b[38;5;28mself\u001b[39m\u001b[38;5;241m.\u001b[39m_num_yielded \u001b[38;5;241m>\u001b[39m \u001b[38;5;28mself\u001b[39m\u001b[38;5;241m.\u001b[39m_IterableDataset_len_called:\n",
      "File \u001b[1;32mD:\\MyProjects\\DawsonAI\\.env\\Lib\\site-packages\\torch\\utils\\data\\dataloader.py:675\u001b[0m, in \u001b[0;36m_SingleProcessDataLoaderIter._next_data\u001b[1;34m(self)\u001b[0m\n\u001b[0;32m    673\u001b[0m \u001b[38;5;28;01mdef\u001b[39;00m \u001b[38;5;21m_next_data\u001b[39m(\u001b[38;5;28mself\u001b[39m):\n\u001b[0;32m    674\u001b[0m     index \u001b[38;5;241m=\u001b[39m \u001b[38;5;28mself\u001b[39m\u001b[38;5;241m.\u001b[39m_next_index()  \u001b[38;5;66;03m# may raise StopIteration\u001b[39;00m\n\u001b[1;32m--> 675\u001b[0m     data \u001b[38;5;241m=\u001b[39m \u001b[38;5;28;43mself\u001b[39;49m\u001b[38;5;241;43m.\u001b[39;49m\u001b[43m_dataset_fetcher\u001b[49m\u001b[38;5;241;43m.\u001b[39;49m\u001b[43mfetch\u001b[49m\u001b[43m(\u001b[49m\u001b[43mindex\u001b[49m\u001b[43m)\u001b[49m  \u001b[38;5;66;03m# may raise StopIteration\u001b[39;00m\n\u001b[0;32m    676\u001b[0m     \u001b[38;5;28;01mif\u001b[39;00m \u001b[38;5;28mself\u001b[39m\u001b[38;5;241m.\u001b[39m_pin_memory:\n\u001b[0;32m    677\u001b[0m         data \u001b[38;5;241m=\u001b[39m _utils\u001b[38;5;241m.\u001b[39mpin_memory\u001b[38;5;241m.\u001b[39mpin_memory(data, \u001b[38;5;28mself\u001b[39m\u001b[38;5;241m.\u001b[39m_pin_memory_device)\n",
      "File \u001b[1;32mD:\\MyProjects\\DawsonAI\\.env\\Lib\\site-packages\\torch\\utils\\data\\_utils\\fetch.py:54\u001b[0m, in \u001b[0;36m_MapDatasetFetcher.fetch\u001b[1;34m(self, possibly_batched_index)\u001b[0m\n\u001b[0;32m     52\u001b[0m \u001b[38;5;28;01melse\u001b[39;00m:\n\u001b[0;32m     53\u001b[0m     data \u001b[38;5;241m=\u001b[39m \u001b[38;5;28mself\u001b[39m\u001b[38;5;241m.\u001b[39mdataset[possibly_batched_index]\n\u001b[1;32m---> 54\u001b[0m \u001b[38;5;28;01mreturn\u001b[39;00m \u001b[38;5;28;43mself\u001b[39;49m\u001b[38;5;241;43m.\u001b[39;49m\u001b[43mcollate_fn\u001b[49m\u001b[43m(\u001b[49m\u001b[43mdata\u001b[49m\u001b[43m)\u001b[49m\n",
      "File \u001b[1;32mD:\\MyProjects\\DawsonAI\\.env\\Lib\\site-packages\\transformers\\data\\data_collator.py:45\u001b[0m, in \u001b[0;36mDataCollatorMixin.__call__\u001b[1;34m(self, features, return_tensors)\u001b[0m\n\u001b[0;32m     43\u001b[0m     \u001b[38;5;28;01mreturn\u001b[39;00m \u001b[38;5;28mself\u001b[39m\u001b[38;5;241m.\u001b[39mtf_call(features)\n\u001b[0;32m     44\u001b[0m \u001b[38;5;28;01melif\u001b[39;00m return_tensors \u001b[38;5;241m==\u001b[39m \u001b[38;5;124m\"\u001b[39m\u001b[38;5;124mpt\u001b[39m\u001b[38;5;124m\"\u001b[39m:\n\u001b[1;32m---> 45\u001b[0m     \u001b[38;5;28;01mreturn\u001b[39;00m \u001b[38;5;28;43mself\u001b[39;49m\u001b[38;5;241;43m.\u001b[39;49m\u001b[43mtorch_call\u001b[49m\u001b[43m(\u001b[49m\u001b[43mfeatures\u001b[49m\u001b[43m)\u001b[49m\n\u001b[0;32m     46\u001b[0m \u001b[38;5;28;01melif\u001b[39;00m return_tensors \u001b[38;5;241m==\u001b[39m \u001b[38;5;124m\"\u001b[39m\u001b[38;5;124mnp\u001b[39m\u001b[38;5;124m\"\u001b[39m:\n\u001b[0;32m     47\u001b[0m     \u001b[38;5;28;01mreturn\u001b[39;00m \u001b[38;5;28mself\u001b[39m\u001b[38;5;241m.\u001b[39mnumpy_call(features)\n",
      "File \u001b[1;32mD:\\MyProjects\\DawsonAI\\.env\\Lib\\site-packages\\transformers\\data\\data_collator.py:761\u001b[0m, in \u001b[0;36mDataCollatorForLanguageModeling.torch_call\u001b[1;34m(self, examples)\u001b[0m\n\u001b[0;32m    758\u001b[0m \u001b[38;5;28;01mdef\u001b[39;00m \u001b[38;5;21mtorch_call\u001b[39m(\u001b[38;5;28mself\u001b[39m, examples: List[Union[List[\u001b[38;5;28mint\u001b[39m], Any, Dict[\u001b[38;5;28mstr\u001b[39m, Any]]]) \u001b[38;5;241m-\u001b[39m\u001b[38;5;241m>\u001b[39m Dict[\u001b[38;5;28mstr\u001b[39m, Any]:\n\u001b[0;32m    759\u001b[0m     \u001b[38;5;66;03m# Handle dict or lists with proper padding and conversion to tensor.\u001b[39;00m\n\u001b[0;32m    760\u001b[0m     \u001b[38;5;28;01mif\u001b[39;00m \u001b[38;5;28misinstance\u001b[39m(examples[\u001b[38;5;241m0\u001b[39m], Mapping):\n\u001b[1;32m--> 761\u001b[0m         batch \u001b[38;5;241m=\u001b[39m \u001b[43mpad_without_fast_tokenizer_warning\u001b[49m\u001b[43m(\u001b[49m\n\u001b[0;32m    762\u001b[0m \u001b[43m            \u001b[49m\u001b[38;5;28;43mself\u001b[39;49m\u001b[38;5;241;43m.\u001b[39;49m\u001b[43mtokenizer\u001b[49m\u001b[43m,\u001b[49m\u001b[43m \u001b[49m\u001b[43mexamples\u001b[49m\u001b[43m,\u001b[49m\u001b[43m \u001b[49m\u001b[43mreturn_tensors\u001b[49m\u001b[38;5;241;43m=\u001b[39;49m\u001b[38;5;124;43m\"\u001b[39;49m\u001b[38;5;124;43mpt\u001b[39;49m\u001b[38;5;124;43m\"\u001b[39;49m\u001b[43m,\u001b[49m\u001b[43m \u001b[49m\u001b[43mpad_to_multiple_of\u001b[49m\u001b[38;5;241;43m=\u001b[39;49m\u001b[38;5;28;43mself\u001b[39;49m\u001b[38;5;241;43m.\u001b[39;49m\u001b[43mpad_to_multiple_of\u001b[49m\n\u001b[0;32m    763\u001b[0m \u001b[43m        \u001b[49m\u001b[43m)\u001b[49m\n\u001b[0;32m    764\u001b[0m     \u001b[38;5;28;01melse\u001b[39;00m:\n\u001b[0;32m    765\u001b[0m         batch \u001b[38;5;241m=\u001b[39m {\n\u001b[0;32m    766\u001b[0m             \u001b[38;5;124m\"\u001b[39m\u001b[38;5;124minput_ids\u001b[39m\u001b[38;5;124m\"\u001b[39m: _torch_collate_batch(examples, \u001b[38;5;28mself\u001b[39m\u001b[38;5;241m.\u001b[39mtokenizer, pad_to_multiple_of\u001b[38;5;241m=\u001b[39m\u001b[38;5;28mself\u001b[39m\u001b[38;5;241m.\u001b[39mpad_to_multiple_of)\n\u001b[0;32m    767\u001b[0m         }\n",
      "File \u001b[1;32mD:\\MyProjects\\DawsonAI\\.env\\Lib\\site-packages\\transformers\\data\\data_collator.py:66\u001b[0m, in \u001b[0;36mpad_without_fast_tokenizer_warning\u001b[1;34m(tokenizer, *pad_args, **pad_kwargs)\u001b[0m\n\u001b[0;32m     63\u001b[0m tokenizer\u001b[38;5;241m.\u001b[39mdeprecation_warnings[\u001b[38;5;124m\"\u001b[39m\u001b[38;5;124mAsking-to-pad-a-fast-tokenizer\u001b[39m\u001b[38;5;124m\"\u001b[39m] \u001b[38;5;241m=\u001b[39m \u001b[38;5;28;01mTrue\u001b[39;00m\n\u001b[0;32m     65\u001b[0m \u001b[38;5;28;01mtry\u001b[39;00m:\n\u001b[1;32m---> 66\u001b[0m     padded \u001b[38;5;241m=\u001b[39m \u001b[43mtokenizer\u001b[49m\u001b[38;5;241;43m.\u001b[39;49m\u001b[43mpad\u001b[49m\u001b[43m(\u001b[49m\u001b[38;5;241;43m*\u001b[39;49m\u001b[43mpad_args\u001b[49m\u001b[43m,\u001b[49m\u001b[43m \u001b[49m\u001b[38;5;241;43m*\u001b[39;49m\u001b[38;5;241;43m*\u001b[39;49m\u001b[43mpad_kwargs\u001b[49m\u001b[43m)\u001b[49m\n\u001b[0;32m     67\u001b[0m \u001b[38;5;28;01mfinally\u001b[39;00m:\n\u001b[0;32m     68\u001b[0m     \u001b[38;5;66;03m# Restore the state of the warning.\u001b[39;00m\n\u001b[0;32m     69\u001b[0m     tokenizer\u001b[38;5;241m.\u001b[39mdeprecation_warnings[\u001b[38;5;124m\"\u001b[39m\u001b[38;5;124mAsking-to-pad-a-fast-tokenizer\u001b[39m\u001b[38;5;124m\"\u001b[39m] \u001b[38;5;241m=\u001b[39m warning_state\n",
      "File \u001b[1;32mD:\\MyProjects\\DawsonAI\\.env\\Lib\\site-packages\\transformers\\tokenization_utils_base.py:3326\u001b[0m, in \u001b[0;36mPreTrainedTokenizerBase.pad\u001b[1;34m(self, encoded_inputs, padding, max_length, pad_to_multiple_of, return_attention_mask, return_tensors, verbose)\u001b[0m\n\u001b[0;32m   3323\u001b[0m             batch_outputs[key] \u001b[38;5;241m=\u001b[39m []\n\u001b[0;32m   3324\u001b[0m         batch_outputs[key]\u001b[38;5;241m.\u001b[39mappend(value)\n\u001b[1;32m-> 3326\u001b[0m \u001b[38;5;28;01mreturn\u001b[39;00m \u001b[43mBatchEncoding\u001b[49m\u001b[43m(\u001b[49m\u001b[43mbatch_outputs\u001b[49m\u001b[43m,\u001b[49m\u001b[43m \u001b[49m\u001b[43mtensor_type\u001b[49m\u001b[38;5;241;43m=\u001b[39;49m\u001b[43mreturn_tensors\u001b[49m\u001b[43m)\u001b[49m\n",
      "File \u001b[1;32mD:\\MyProjects\\DawsonAI\\.env\\Lib\\site-packages\\transformers\\tokenization_utils_base.py:223\u001b[0m, in \u001b[0;36mBatchEncoding.__init__\u001b[1;34m(self, data, encoding, tensor_type, prepend_batch_axis, n_sequences)\u001b[0m\n\u001b[0;32m    219\u001b[0m     n_sequences \u001b[38;5;241m=\u001b[39m encoding[\u001b[38;5;241m0\u001b[39m]\u001b[38;5;241m.\u001b[39mn_sequences\n\u001b[0;32m    221\u001b[0m \u001b[38;5;28mself\u001b[39m\u001b[38;5;241m.\u001b[39m_n_sequences \u001b[38;5;241m=\u001b[39m n_sequences\n\u001b[1;32m--> 223\u001b[0m \u001b[38;5;28;43mself\u001b[39;49m\u001b[38;5;241;43m.\u001b[39;49m\u001b[43mconvert_to_tensors\u001b[49m\u001b[43m(\u001b[49m\u001b[43mtensor_type\u001b[49m\u001b[38;5;241;43m=\u001b[39;49m\u001b[43mtensor_type\u001b[49m\u001b[43m,\u001b[49m\u001b[43m \u001b[49m\u001b[43mprepend_batch_axis\u001b[49m\u001b[38;5;241;43m=\u001b[39;49m\u001b[43mprepend_batch_axis\u001b[49m\u001b[43m)\u001b[49m\n",
      "File \u001b[1;32mD:\\MyProjects\\DawsonAI\\.env\\Lib\\site-packages\\transformers\\tokenization_utils_base.py:764\u001b[0m, in \u001b[0;36mBatchEncoding.convert_to_tensors\u001b[1;34m(self, tensor_type, prepend_batch_axis)\u001b[0m\n\u001b[0;32m    759\u001b[0m         \u001b[38;5;28;01mif\u001b[39;00m key \u001b[38;5;241m==\u001b[39m \u001b[38;5;124m\"\u001b[39m\u001b[38;5;124moverflowing_tokens\u001b[39m\u001b[38;5;124m\"\u001b[39m:\n\u001b[0;32m    760\u001b[0m             \u001b[38;5;28;01mraise\u001b[39;00m \u001b[38;5;167;01mValueError\u001b[39;00m(\n\u001b[0;32m    761\u001b[0m                 \u001b[38;5;124m\"\u001b[39m\u001b[38;5;124mUnable to create tensor returning overflowing tokens of different lengths. \u001b[39m\u001b[38;5;124m\"\u001b[39m\n\u001b[0;32m    762\u001b[0m                 \u001b[38;5;124m\"\u001b[39m\u001b[38;5;124mPlease see if a fast version of this tokenizer is available to have this feature available.\u001b[39m\u001b[38;5;124m\"\u001b[39m\n\u001b[0;32m    763\u001b[0m             ) \u001b[38;5;28;01mfrom\u001b[39;00m \u001b[38;5;21;01me\u001b[39;00m\n\u001b[1;32m--> 764\u001b[0m         \u001b[38;5;28;01mraise\u001b[39;00m \u001b[38;5;167;01mValueError\u001b[39;00m(\n\u001b[0;32m    765\u001b[0m             \u001b[38;5;124m\"\u001b[39m\u001b[38;5;124mUnable to create tensor, you should probably activate truncation and/or padding with\u001b[39m\u001b[38;5;124m\"\u001b[39m\n\u001b[0;32m    766\u001b[0m             \u001b[38;5;124m\"\u001b[39m\u001b[38;5;124m \u001b[39m\u001b[38;5;124m'\u001b[39m\u001b[38;5;124mpadding=True\u001b[39m\u001b[38;5;124m'\u001b[39m\u001b[38;5;124m \u001b[39m\u001b[38;5;124m'\u001b[39m\u001b[38;5;124mtruncation=True\u001b[39m\u001b[38;5;124m'\u001b[39m\u001b[38;5;124m to have batched tensors with the same length. Perhaps your\u001b[39m\u001b[38;5;124m\"\u001b[39m\n\u001b[0;32m    767\u001b[0m             \u001b[38;5;124mf\u001b[39m\u001b[38;5;124m\"\u001b[39m\u001b[38;5;124m features (`\u001b[39m\u001b[38;5;132;01m{\u001b[39;00mkey\u001b[38;5;132;01m}\u001b[39;00m\u001b[38;5;124m` in this case) have excessive nesting (inputs type `list` where type `int` is\u001b[39m\u001b[38;5;124m\"\u001b[39m\n\u001b[0;32m    768\u001b[0m             \u001b[38;5;124m\"\u001b[39m\u001b[38;5;124m expected).\u001b[39m\u001b[38;5;124m\"\u001b[39m\n\u001b[0;32m    769\u001b[0m         ) \u001b[38;5;28;01mfrom\u001b[39;00m \u001b[38;5;21;01me\u001b[39;00m\n\u001b[0;32m    771\u001b[0m \u001b[38;5;28;01mreturn\u001b[39;00m \u001b[38;5;28mself\u001b[39m\n",
      "\u001b[1;31mValueError\u001b[0m: Unable to create tensor, you should probably activate truncation and/or padding with 'padding=True' 'truncation=True' to have batched tensors with the same length. Perhaps your features (`labels` in this case) have excessive nesting (inputs type `list` where type `int` is expected)."
     ]
    }
   ],
   "source": [
    "trainer.train()"
   ]
  },
  {
   "cell_type": "code",
   "execution_count": 6,
   "id": "13bebad6-bcdb-49b3-ae3f-118e80e7531a",
   "metadata": {},
   "outputs": [],
   "source": [
    "from transformers import AutoModelForSeq2SeqLM, AutoTokenizer\n",
    "\n",
    "q_model = AutoModelForSeq2SeqLM.from_pretrained(\"output_qa2d_t5/checkpoint-15800\")\n",
    "tokenizer = AutoTokenizer.from_pretrained(\"output_qa2d_t5/checkpoint-15800\")"
   ]
  },
  {
   "cell_type": "code",
   "execution_count": 8,
   "id": "70be2bb9-4d51-4db3-8007-0295d158eca2",
   "metadata": {},
   "outputs": [
    {
     "name": "stdout",
     "output_type": "stream",
     "text": [
      "What would appear perfectly straight? the road\n"
     ]
    }
   ],
   "source": [
    "### Don't forget to add the \"ask: \" prompt!\n",
    "input_text = \"ask: The road would appear perfectly straight.\"\n",
    "input_ids = tokenizer(input_text, return_tensors=\"pt\").input_ids\n",
    "\n",
    "outputs = q_model.generate(input_ids, max_new_tokens=100, do_sample=False)\n",
    "print(tokenizer.decode(outputs[0], skip_special_tokens=True))"
   ]
  },
  {
   "cell_type": "code",
   "execution_count": null,
   "id": "5357aa80-bb56-4394-b96f-da90db52ef67",
   "metadata": {},
   "outputs": [],
   "source": []
  },
  {
   "cell_type": "code",
   "execution_count": null,
   "id": "23125ca2-e6bd-4625-90c9-ba2c939d533c",
   "metadata": {},
   "outputs": [],
   "source": []
  }
 ],
 "metadata": {
  "kernelspec": {
   "display_name": "Python 3 (ipykernel)",
   "language": "python",
   "name": "python3"
  },
  "language_info": {
   "codemirror_mode": {
    "name": "ipython",
    "version": 3
   },
   "file_extension": ".py",
   "mimetype": "text/x-python",
   "name": "python",
   "nbconvert_exporter": "python",
   "pygments_lexer": "ipython3",
   "version": "3.12.2"
  }
 },
 "nbformat": 4,
 "nbformat_minor": 5
}
