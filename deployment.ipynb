{
 "cells": [
  {
   "cell_type": "code",
   "execution_count": 2,
   "id": "d903c2a0-e670-4af8-8b66-65b47ca2a6ba",
   "metadata": {},
   "outputs": [],
   "source": [
    "from transformers import AutoModelForSeq2SeqLM, AutoTokenizer\n",
    "\n",
    "model = AutoModelForSeq2SeqLM.from_pretrained(\"models/output_qa2d_t5/checkpoint-15800\")\n",
    "tokenizer = AutoTokenizer.from_pretrained(\"models/output_qa2d_t5/checkpoint-15800\")"
   ]
  },
  {
   "cell_type": "code",
   "execution_count": 6,
   "id": "a81d2509-f956-442a-8a2d-a7cee419e6c6",
   "metadata": {},
   "outputs": [
    {
     "name": "stdout",
     "output_type": "stream",
     "text": [
      "Requirement already satisfied: huggingface_hub in d:\\myprojects\\dawsonai\\.env\\lib\\site-packages (0.21.4)\n",
      "Collecting huggingface_hub\n",
      "  Downloading huggingface_hub-0.22.2-py3-none-any.whl.metadata (12 kB)\n",
      "Requirement already satisfied: filelock in d:\\myprojects\\dawsonai\\.env\\lib\\site-packages (from huggingface_hub) (3.13.1)\n",
      "Requirement already satisfied: fsspec>=2023.5.0 in d:\\myprojects\\dawsonai\\.env\\lib\\site-packages (from huggingface_hub) (2024.2.0)\n",
      "Requirement already satisfied: packaging>=20.9 in d:\\myprojects\\dawsonai\\.env\\lib\\site-packages (from huggingface_hub) (23.2)\n",
      "Requirement already satisfied: pyyaml>=5.1 in d:\\myprojects\\dawsonai\\.env\\lib\\site-packages (from huggingface_hub) (6.0.1)\n",
      "Requirement already satisfied: requests in d:\\myprojects\\dawsonai\\.env\\lib\\site-packages (from huggingface_hub) (2.31.0)\n",
      "Requirement already satisfied: tqdm>=4.42.1 in d:\\myprojects\\dawsonai\\.env\\lib\\site-packages (from huggingface_hub) (4.66.2)\n",
      "Requirement already satisfied: typing-extensions>=3.7.4.3 in d:\\myprojects\\dawsonai\\.env\\lib\\site-packages (from huggingface_hub) (4.10.0)\n",
      "Requirement already satisfied: colorama in d:\\myprojects\\dawsonai\\.env\\lib\\site-packages (from tqdm>=4.42.1->huggingface_hub) (0.4.6)\n",
      "Requirement already satisfied: charset-normalizer<4,>=2 in d:\\myprojects\\dawsonai\\.env\\lib\\site-packages (from requests->huggingface_hub) (3.3.2)\n",
      "Requirement already satisfied: idna<4,>=2.5 in d:\\myprojects\\dawsonai\\.env\\lib\\site-packages (from requests->huggingface_hub) (3.6)\n",
      "Requirement already satisfied: urllib3<3,>=1.21.1 in d:\\myprojects\\dawsonai\\.env\\lib\\site-packages (from requests->huggingface_hub) (2.2.1)\n",
      "Requirement already satisfied: certifi>=2017.4.17 in d:\\myprojects\\dawsonai\\.env\\lib\\site-packages (from requests->huggingface_hub) (2024.2.2)\n",
      "Downloading huggingface_hub-0.22.2-py3-none-any.whl (388 kB)\n",
      "   ---------------------------------------- 0.0/388.9 kB ? eta -:--:--\n",
      "   -------- ------------------------------- 81.9/388.9 kB 2.3 MB/s eta 0:00:01\n",
      "   --------------------- ------------------ 204.8/388.9 kB 2.5 MB/s eta 0:00:01\n",
      "   ---------------------------------------- 388.9/388.9 kB 3.0 MB/s eta 0:00:00\n",
      "Installing collected packages: huggingface_hub\n",
      "  Attempting uninstall: huggingface_hub\n",
      "    Found existing installation: huggingface-hub 0.21.4\n",
      "    Uninstalling huggingface-hub-0.21.4:\n",
      "      Successfully uninstalled huggingface-hub-0.21.4\n",
      "Successfully installed huggingface_hub-0.22.2\n",
      "Note: you may need to restart the kernel to use updated packages.\n"
     ]
    }
   ],
   "source": [
    "pip install --upgrade huggingface_hub\n"
   ]
  },
  {
   "cell_type": "code",
   "execution_count": 8,
   "id": "47214c57-cfaf-40de-a8e5-5e3f88a99d14",
   "metadata": {},
   "outputs": [
    {
     "data": {
      "application/vnd.jupyter.widget-view+json": {
       "model_id": "517d22990fd941edbda3ba72e2b786c6",
       "version_major": 2,
       "version_minor": 0
      },
      "text/plain": [
       "model.safetensors:   0%|          | 0.00/242M [00:00<?, ?B/s]"
      ]
     },
     "metadata": {},
     "output_type": "display_data"
    },
    {
     "data": {
      "text/plain": [
       "CommitInfo(commit_url='https://huggingface.co/dantedgp/question-generator/commit/537f42e0adff536a68e2cafeffe79618a4d531c5', commit_message='Upload T5ForConditionalGeneration', commit_description='', oid='537f42e0adff536a68e2cafeffe79618a4d531c5', pr_url=None, pr_revision=None, pr_num=None)"
      ]
     },
     "execution_count": 8,
     "metadata": {},
     "output_type": "execute_result"
    }
   ],
   "source": [
    "model.push_to_hub(\"question-generator\")"
   ]
  },
  {
   "cell_type": "code",
   "execution_count": 4,
   "id": "8e89d10f-c99d-449e-8796-a234bee25196",
   "metadata": {},
   "outputs": [
    {
     "data": {
      "text/plain": [
       "DeltaGenerator()"
      ]
     },
     "execution_count": 4,
     "metadata": {},
     "output_type": "execute_result"
    }
   ],
   "source": [
    "import streamlit as st\n",
    "\n",
    "def generate_response(txt):\n",
    "    # Encode inputs\n",
    "    input_ids = tokenizer(txt, return_tensors=\"pt\").input_ids\n",
    "    outputs = q_model.generate(input_ids, max_new_tokens=100, do_sample=False)\n",
    "    question = tokenizer.decode(outputs[0], skip_special_tokens=True)\n",
    "    \n",
    "    return question\n",
    "\n",
    "# Page title\n",
    "st.set_page_config(page_title='Quiz Generation App')\n",
    "st.title('Quiz Generator')"
   ]
  }
 ],
 "metadata": {
  "kernelspec": {
   "display_name": "Python 3 (ipykernel)",
   "language": "python",
   "name": "python3"
  },
  "language_info": {
   "codemirror_mode": {
    "name": "ipython",
    "version": 3
   },
   "file_extension": ".py",
   "mimetype": "text/x-python",
   "name": "python",
   "nbconvert_exporter": "python",
   "pygments_lexer": "ipython3",
   "version": "3.12.2"
  }
 },
 "nbformat": 4,
 "nbformat_minor": 5
}
